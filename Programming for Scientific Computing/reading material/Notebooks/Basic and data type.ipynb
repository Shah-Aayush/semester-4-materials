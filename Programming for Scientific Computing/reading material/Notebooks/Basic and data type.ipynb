{
 "cells": [
  {
   "cell_type": "markdown",
   "metadata": {},
   "source": [
    "Different Way to use print function in python"
   ]
  },
  {
   "cell_type": "code",
   "execution_count": 1,
   "metadata": {},
   "outputs": [
    {
     "name": "stdout",
     "output_type": "stream",
     "text": [
      "1.2342\n"
     ]
    }
   ],
   "source": [
    "print (5*0.6 - 0.5*9.81*0.6**2)"
   ]
  },
  {
   "cell_type": "code",
   "execution_count": 1,
   "metadata": {},
   "outputs": [
    {
     "name": "stdout",
     "output_type": "stream",
     "text": [
      "Hello World!!!\n"
     ]
    }
   ],
   "source": [
    "print(\"Hello World!!!\")"
   ]
  },
  {
   "cell_type": "code",
   "execution_count": 2,
   "metadata": {},
   "outputs": [
    {
     "name": "stdout",
     "output_type": "stream",
     "text": [
      "1.2342\n"
     ]
    }
   ],
   "source": [
    "v0 = 5\n",
    "g = 9.81\n",
    "t = 0.6\n",
    "y = v0*t - 0.5*g*t**2\n",
    "print (y)"
   ]
  },
  {
   "cell_type": "code",
   "execution_count": 6,
   "metadata": {},
   "outputs": [
    {
     "name": "stdout",
     "output_type": "stream",
     "text": [
      "At t=0.6 s, the height of the ball is 1.23 m.\n"
     ]
    }
   ],
   "source": [
    "v0 = 5\n",
    "g = 9.81\n",
    "t = 0.6\n",
    "y = v0*t - 0.5*g*t**2\n",
    "print ('At t=%g s, the height of the ball is %.2f m.' % (t, y))"
   ]
  },
  {
   "cell_type": "code",
   "execution_count": 14,
   "metadata": {},
   "outputs": [
    {
     "name": "stdout",
     "output_type": "stream",
     "text": [
      " \n",
      "At t=0.600000 s, a ball with \n",
      "initial velocity v0=5.000E+00 m/s \n",
      "is located at the height 1.23 m. \n",
      "\n"
     ]
    }
   ],
   "source": [
    "v0 = 5\n",
    "g = 9.81\n",
    "t = 0.6\n",
    "y = v0*t - 0.5*g*t**2\n",
    "\n",
    "print (\"\"\" \n",
    "At t=%f s, a ball with \n",
    "initial velocity v0=%.3E m/s \n",
    "is located at the height %.2f m. \n",
    "\"\"\" % (t, v0, y))"
   ]
  },
  {
   "cell_type": "code",
   "execution_count": 19,
   "metadata": {},
   "outputs": [
    {
     "name": "stdout",
     "output_type": "stream",
     "text": [
      "y(t) is\n",
      "the position of\n",
      "our ball.\n",
      "y(t) is\n",
      "the position of\n",
      "our ball\n"
     ]
    }
   ],
   "source": [
    "# use of \\n\n",
    "print ( \"\"\"y(t) is\n",
    "the position of\n",
    "our ball.\"\"\")\n",
    "print ('y(t) is\\nthe position of\\nour ball')"
   ]
  },
  {
   "cell_type": "code",
   "execution_count": 22,
   "metadata": {},
   "outputs": [
    {
     "name": "stdout",
     "output_type": "stream",
     "text": [
      "0.034199999999999786\n",
      "0.034199999999999786\n"
     ]
    }
   ],
   "source": [
    "#use of ;\n",
    "v0 = 3; g = 9.81; t = 0.6\n",
    "y = v0*t - 0.5*g*t**2\n",
    "print (y)\n",
    "#OR\n",
    "v0=3;g=9.81;t=0.6;y=v0*t-0.5*g*t**2;print (y)"
   ]
  },
  {
   "cell_type": "code",
   "execution_count": 4,
   "metadata": {},
   "outputs": [
    {
     "name": "stdout",
     "output_type": "stream",
     "text": [
      "\"62\"\n",
      "\"   62\"\n",
      "\"00062\"\n",
      "\"1.89877e+08\"\n",
      "\"1.89877E+08\"\n",
      "\"1.898765e+08\"\n",
      "\"1.898765E+08\"\n",
      "\"            1.90E+08\"\n",
      "\"                   1.89877e+08\"\n",
      "\"1.89877e+08                   \"\n",
      "\"1.899e+08                     \"\n",
      "62\n",
      "189876545.76546755\n",
      "5.1 % of 346.00 Euro is 17.65 Euro\n"
     ]
    }
   ],
   "source": [
    "i = 62\n",
    "r = 189876545.7654675432\n",
    "\n",
    "# Print out numbers with quotes \"\" such that we see the\n",
    "# width of the field\n",
    "print ('\"%d\"'  %i)     # minimum field\n",
    "print ('\"%5d\"' % i )     # field of width 5 characters\n",
    "print ('\"%05d\"' % i)    # pad with zeros\n",
    "\n",
    "print ('\"%g\"' % r)       # r is big number so this is scientific notation\n",
    "print ('\"%G\"' % r)       # E in the exponent\n",
    "print ('\"%e\"' % r )      # compact scientific notation\n",
    "print ('\"%E\"' % r)       # compact scientific notation\n",
    "print ('\"%20.2E\"' % r )  # 2 decimals, field of width 20\n",
    "print ('\"%30g\"' % r)     # field of width 30 (right-adjusted)\n",
    "print ('\"%-30g\"' % r)    # left-adjust number\n",
    "print ('\"%-30.4g\"' % r ) # 3 decimals\n",
    "\n",
    "print ('%s' % i)   # can convert i to string automatically\n",
    "print ('%s' % r)\n",
    "\n",
    "# Use %% to print the percentage sign\n",
    "print ('%g %% of %.2f Euro is %.2f Euro' % \\\n",
    "      (5.1, 346, 5.1/100*346))\n"
   ]
  },
  {
   "cell_type": "code",
   "execution_count": 26,
   "metadata": {
    "scrolled": true
   },
   "outputs": [
    {
     "name": "stdout",
     "output_type": "stream",
     "text": [
      "<class 'str'>\n",
      "<class 'int'>\n",
      "<class 'float'>\n",
      "<class 'complex'>\n",
      "<class 'list'>\n",
      "<class 'tuple'>\n",
      "<class 'dict'>\n"
     ]
    }
   ],
   "source": [
    "x = \"Hello World\"\n",
    "print(type(x))\n",
    "x = 20\n",
    "print(type(x))\n",
    "x = 20.5\n",
    "print(type(x))\n",
    "x = 1j\n",
    "print(type(x))\n",
    "x = [\"apple\", \"banana\", \"cherry\"]\n",
    "print(type(x))\n",
    "x = (\"apple\", \"banana\", \"cherry\")\n",
    "print(type(x))\n",
    "x = {\"name\" : \"John\", \"age\" : 36}\n",
    "print(type(x))\n",
    " \n"
   ]
  },
  {
   "cell_type": "code",
   "execution_count": 1,
   "metadata": {},
   "outputs": [
    {
     "name": "stdout",
     "output_type": "stream",
     "text": [
      "s1\n",
      "2\n",
      "3.0\n"
     ]
    }
   ],
   "source": [
    "\n",
    "x = str(\"s1\")\n",
    "y = str(2)\n",
    "z = str(3.0)\n",
    "print(x)\n",
    "print(y)\n",
    "print(z)"
   ]
  },
  {
   "cell_type": "code",
   "execution_count": 64,
   "metadata": {},
   "outputs": [
    {
     "name": "stdout",
     "output_type": "stream",
     "text": [
      "Hello World!\n",
      "H\n",
      "llo\n",
      "llo World!\n",
      "Hello World!Hello World!Hello World!Hello World!\n",
      "Hello World!TEST\n",
      "orl\n",
      "orld!\n",
      "lo, Wo\n",
      "ello, W\n",
      "\n",
      "13\n"
     ]
    }
   ],
   "source": [
    "str1 = 'Hello World!'\n",
    "#       012345678901\n",
    "print (str1)          # Prints complete string\n",
    "print (str1[0])       # Prints first character of the string\n",
    "print (str1[2:5])     # Prints characters starting at index 2 to 4\n",
    "                    # first index is inclusive while end is exclusive\n",
    "print (str1[2:])     # Prints string starting from 3rd character\n",
    "print (str1 * 4)      # Prints string two times\n",
    "print (str1 + \"TEST\")\n",
    "#    3210987654321   #negative index\n",
    "b = \"Hello, World!\"\n",
    "#    0123456789012\n",
    "print(b[-5:-2])\n",
    "print(b[-5:])\n",
    "print(b[-10:9])\n",
    "print(b[1:-5])\n",
    "print(b[-2:-5])\n",
    "print(len(b))  #To get the length of a string, use the len() function."
   ]
  },
  {
   "cell_type": "code",
   "execution_count": 14,
   "metadata": {},
   "outputs": [
    {
     "name": "stdout",
     "output_type": "stream",
     "text": [
      " Hello, WHor,ld! \n",
      "Hello, WHor,ld!\n",
      " hello, whor,ld! \n",
      " HELLO, WHOR,LD! \n",
      " Jello, WJor,ld! \n",
      "['Ajay Patel', 'Dvijesh Bhatt', 'Ahmedabad']\n",
      "Hello World\n"
     ]
    }
   ],
   "source": [
    "a = \" Hello, WHor,ld! \"\n",
    "print(a)\n",
    "#The strip() method removes any whitespace from the beginning or the ending:\n",
    "print(a.strip()) # returns \"Hello, World!\"\n",
    "#a=a.strip()\n",
    "\n",
    "print(a.lower())\n",
    "print(a.upper())\n",
    "\n",
    "print(a.replace(\"H\", \"J\"))\n",
    "y= \"Ajay Patel   Dvijesh Bhatt   Ahmedabad\"\n",
    "print(y.split(\"   \")) # returns ['Hello', ' World!'] \n",
    "#The split() method splits the string into substrings if it finds instances of the separator:\n",
    "a = \"Hello \"\n",
    "b = \"World\"\n",
    "c = a + b\n",
    "print(c)"
   ]
  },
  {
   "cell_type": "code",
   "execution_count": 55,
   "metadata": {},
   "outputs": [
    {
     "name": "stdout",
     "output_type": "stream",
     "text": [
      "!\n",
      "ld\n",
      "Hello World!\n"
     ]
    }
   ],
   "source": [
    "#       210987654321    Nagive index\n",
    "str1 = 'Hello World!'\n",
    "#       012345678901    Positive index             \n",
    "print (str1[-1])          \n",
    "print (str1[-3:-1])       \n",
    "print (str1[-12:])     "
   ]
  },
  {
   "cell_type": "code",
   "execution_count": 17,
   "metadata": {},
   "outputs": [
    {
     "name": "stdout",
     "output_type": "stream",
     "text": [
      "This is Nirma."
     ]
    }
   ],
   "source": [
    "print('This','is','Nirma', sep= ' ', end='.')"
   ]
  },
  {
   "cell_type": "code",
   "execution_count": 21,
   "metadata": {},
   "outputs": [
    {
     "name": "stdout",
     "output_type": "stream",
     "text": [
      "a=5\n",
      "a=5 and b=2\n",
      "a=2 and b=5\n",
      "a=5 and b=2\n",
      "bin=1100, oct=14, hex=c\n",
      "bin=1100, oct=12, hex=a\n",
      "bin=1100, oct=12, hex=C\n"
     ]
    }
   ],
   "source": [
    "a=5;b=2\n",
    "print('a={0}'.format(a)) #a=5\n",
    "print('a={0} and b={1}'.format(a, b)) #a=5 and b=2\n",
    "print('a={1} and b={0}'.format(a, b)) #a=2 and b=5\n",
    "print('a={} and b={}'.format(a, b))\t#a=5 and b=2 #auto field numbering\n",
    "print('bin={0:b}, oct={0:o}, hex={0:x}'.format(12)) #bin=1100, oct=14, hex=c\n",
    "print('bin={0:b}, oct={1:o}, hex={1:x}'.format(12,10)) #bin=1100, oct=12, hex=a\n",
    "print('bin={0:b}, oct={1:o}, hex={0:X}'.format(12,10)) #bin=1100, oct=12, hex=A\n"
   ]
  },
  {
   "cell_type": "code",
   "execution_count": 9,
   "metadata": {},
   "outputs": [
    {
     "name": "stdout",
     "output_type": "stream",
     "text": [
      "V,\tS,\tUX"
     ]
    }
   ],
   "source": [
    "print('V','S','U', sep=\",\\t\", end='X')"
   ]
  },
  {
   "cell_type": "code",
   "execution_count": 22,
   "metadata": {},
   "outputs": [
    {
     "name": "stdout",
     "output_type": "stream",
     "text": [
      "a=9 and b=8\n",
      "a=  9 and b=    8\n",
      "a=  9 and b=    8\n",
      "a=9   and b=8    \n",
      "a=9   and b=8    \n",
      "a=009 and b=00008\n",
      "a= 9   and b=  8  \n",
      "a=123.456790\n",
      "a= 123.457\n"
     ]
    }
   ],
   "source": [
    "a=9\n",
    "b=8\n",
    "print(\"a={0:d} and b={1:d}\".format(a, b)) \t\t\t#a=5 and b=2\n",
    "print(\"a={0:3d} and b={1:5d}\".format(a, b)) \t\t#a=  5 and b=    2\n",
    "print(\"a={0:>3d} and b={1:>5d}\".format(a, b)) \t\t#a=  5 and b=    2\n",
    "print(\"a={0:<3d} and b={1:<5d}\".format(a, b))\t\t#a=5   and b=2\n",
    "print(\"a={:<{}d} and b={:<{}d}\".format(a,3,b,5))\t\t#???  \n",
    "print(\"a={0:03d} and b={1:05d}\".format(a, b)) \t\t#a=005 and b=00002\n",
    "print(\"a={0:^3d} and b={1:^5d}\".format(a, b)) \t\t#a= 5  and b=  2  \n",
    "print(\"a={:f}\".format(123.4567898990)) \t\t\t\t#a=123.456790\n",
    "print(\"a={:8.3f}\".format(123.4567898)) \t\t\t#a= 123.457"
   ]
  },
  {
   "cell_type": "code",
   "execution_count": 25,
   "metadata": {},
   "outputs": [
    {
     "name": "stdout",
     "output_type": "stream",
     "text": [
      "     2 4        8        16\n",
      "     3 9        27       81\n",
      "     4 16       64      256\n",
      "     5 25      125      625\n"
     ]
    }
   ],
   "source": [
    "for i in range (2, 6): \n",
    "        # Using formatters to give 6  \n",
    "        # spaces to each set of values \n",
    "        print(\"{:>6d} {:<6d} {:^6d} {:6d}\"\n",
    "        .format(i, i ** 2, i ** 3, i ** 4)) "
   ]
  },
  {
   "cell_type": "code",
   "execution_count": 23,
   "metadata": {},
   "outputs": [
    {
     "name": "stdout",
     "output_type": "stream",
     "text": [
      "Lorem ipsum dolor sit amet,\n",
      "consectetur adipiscing elit,\n",
      "sed do eiusmod tempor incididunt\n",
      "ut labore et dolore magna aliqua.\n"
     ]
    }
   ],
   "source": [
    "a = \"\"\"Lorem ipsum dolor sit amet,\n",
    "consectetur adipiscing elit,\n",
    "sed do eiusmod tempor incididunt\n",
    "ut labore et dolore magna aliqua.\"\"\"\n",
    "print(a)"
   ]
  },
  {
   "cell_type": "code",
   "execution_count": 25,
   "metadata": {},
   "outputs": [
    {
     "name": "stdout",
     "output_type": "stream",
     "text": [
      "36\n",
      "Takes in a number n, returns the square of n\n"
     ]
    }
   ],
   "source": [
    "# Python docstrings are the string literals that appear right\n",
    "# after the definition of a function, method, class, or module.\n",
    "# Let's take an example.\n",
    "def square(n):\n",
    "   '''Takes in a number n, returns the square of n'''\n",
    "   return n**2\n",
    "\n",
    "print(square(6))\n",
    "print(square.__doc__)"
   ]
  },
  {
   "cell_type": "code",
   "execution_count": 17,
   "metadata": {},
   "outputs": [
    {
     "name": "stdout",
     "output_type": "stream",
     "text": [
      "e\n"
     ]
    }
   ],
   "source": [
    "a = \"Hello, World!\"\n",
    "print(a[1])"
   ]
  },
  {
   "cell_type": "code",
   "execution_count": 26,
   "metadata": {
    "scrolled": true
   },
   "outputs": [
    {
     "ename": "ValueError",
     "evalue": "invalid literal for int() with base 10: 'X'",
     "output_type": "error",
     "traceback": [
      "\u001b[1;31m---------------------------------------------------------------------------\u001b[0m",
      "\u001b[1;31mValueError\u001b[0m                                Traceback (most recent call last)",
      "\u001b[1;32m<ipython-input-26-0ba952c1d0a1>\u001b[0m in \u001b[0;36m<module>\u001b[1;34m\u001b[0m\n\u001b[0;32m      1\u001b[0m \u001b[0mx\u001b[0m \u001b[1;33m=\u001b[0m \u001b[0mint\u001b[0m\u001b[1;33m(\u001b[0m\u001b[1;36m1\u001b[0m\u001b[1;33m)\u001b[0m   \u001b[1;31m# x will be 1\u001b[0m\u001b[1;33m\u001b[0m\u001b[1;33m\u001b[0m\u001b[0m\n\u001b[0;32m      2\u001b[0m \u001b[0my\u001b[0m \u001b[1;33m=\u001b[0m \u001b[0mint\u001b[0m\u001b[1;33m(\u001b[0m\u001b[1;36m2.8\u001b[0m\u001b[1;33m)\u001b[0m \u001b[1;31m# y will be 2\u001b[0m\u001b[1;33m\u001b[0m\u001b[1;33m\u001b[0m\u001b[0m\n\u001b[1;32m----> 3\u001b[1;33m \u001b[0mz\u001b[0m \u001b[1;33m=\u001b[0m \u001b[0mint\u001b[0m\u001b[1;33m(\u001b[0m\u001b[1;34m\"X\"\u001b[0m\u001b[1;33m)\u001b[0m \u001b[1;31m# z will be 3\u001b[0m\u001b[1;33m\u001b[0m\u001b[1;33m\u001b[0m\u001b[0m\n\u001b[0m\u001b[0;32m      4\u001b[0m \u001b[0mprint\u001b[0m\u001b[1;33m(\u001b[0m\u001b[0mx\u001b[0m\u001b[1;33m,\u001b[0m\u001b[0my\u001b[0m\u001b[1;33m,\u001b[0m\u001b[0mz\u001b[0m\u001b[1;33m)\u001b[0m\u001b[1;33m\u001b[0m\u001b[1;33m\u001b[0m\u001b[0m\n\u001b[0;32m      5\u001b[0m \u001b[0mx\u001b[0m \u001b[1;33m=\u001b[0m \u001b[0mfloat\u001b[0m\u001b[1;33m(\u001b[0m\u001b[1;36m1\u001b[0m\u001b[1;33m)\u001b[0m     \u001b[1;31m# x will be 1.0\u001b[0m\u001b[1;33m\u001b[0m\u001b[1;33m\u001b[0m\u001b[0m\n",
      "\u001b[1;31mValueError\u001b[0m: invalid literal for int() with base 10: 'X'"
     ]
    }
   ],
   "source": [
    "x = int(1)   # x will be 1\n",
    "y = int(2.8) # y will be 2\n",
    "z = int(\"3\") # z will be 3\n",
    "print(x,y,z)\n",
    "x = float(1)     # x will be 1.0\n",
    "y = float(2.8)   # y will be 2.8\n",
    "z = float(\"3\")   # z will be 3.0\n",
    "w = float(\"4.2\") # w will be 4.2\n",
    "print(x,y,z,w)\n"
   ]
  },
  {
   "cell_type": "code",
   "execution_count": 61,
   "metadata": {},
   "outputs": [
    {
     "name": "stdout",
     "output_type": "stream",
     "text": [
      "7.5\n",
      "7\n"
     ]
    }
   ],
   "source": [
    "x = 15\n",
    "y = 2\n",
    "print(x / y)\n",
    "print(x // y)"
   ]
  },
  {
   "cell_type": "markdown",
   "metadata": {},
   "source": [
    "Collecting inputs from user... \n",
    "\n",
    "It will work ust like scanf() in C"
   ]
  },
  {
   "cell_type": "code",
   "execution_count": 1,
   "metadata": {},
   "outputs": [
    {
     "name": "stdout",
     "output_type": "stream",
     "text": [
      "Enter a:4\n",
      "<class 'str'>\n",
      "4\n",
      "Enter a:3\n",
      "<class 'int'>\n",
      "3\n"
     ]
    }
   ],
   "source": [
    "a=input(\"Enter a:\") # by dafulat input value is string\n",
    "print(type(a))\n",
    "print(a)\n",
    "a=int(input(\"Enter a:\"))\n",
    "#a = int(a)\n",
    "print(type(a))\n",
    "print(a)"
   ]
  },
  {
   "cell_type": "code",
   "execution_count": 2,
   "metadata": {},
   "outputs": [
    {
     "name": "stdout",
     "output_type": "stream",
     "text": [
      "Enter any number of your choice:10+10\n",
      "10+10\n",
      "<class 'str'>\n"
     ]
    }
   ],
   "source": [
    "input = input(\"Enter any number of your choice:\")   # enter 10 + 10\n",
    "print(input)\n",
    "print(type(input))"
   ]
  },
  {
   "cell_type": "code",
   "execution_count": 1,
   "metadata": {},
   "outputs": [
    {
     "name": "stdout",
     "output_type": "stream",
     "text": [
      "Enter any number of your choice10+10\n",
      "20\n",
      "<class 'int'>\n"
     ]
    }
   ],
   "source": [
    "eval = eval(input(\"Enter any number of your choice\"))\n",
    "print(eval)\n",
    "print(type(eval))"
   ]
  },
  {
   "cell_type": "code",
   "execution_count": 2,
   "metadata": {},
   "outputs": [
    {
     "name": "stdout",
     "output_type": "stream",
     "text": [
      "Enter what operation x has to perform: x+10*2\n",
      "x+10*2\n",
      "<class 'str'>\n",
      "x5\n",
      "<class 'int'>\n",
      "25\n",
      "<class 'int'>\n"
     ]
    }
   ],
   "source": [
    "evaluate = input(\"Enter what operation x has to perform: \") \n",
    "# enter x + x + 100 - 35 + 5 * 80\n",
    "print(evaluate)\n",
    "print(type(evaluate))\n",
    "\n",
    "x = int(input(\"x\"))\n",
    "print(type(x))\n",
    "\n",
    "expression = eval(evaluate)\n",
    "print(expression)\n",
    "print(type(expression))"
   ]
  },
  {
   "cell_type": "code",
   "execution_count": 5,
   "metadata": {},
   "outputs": [
    {
     "name": "stdout",
     "output_type": "stream",
     "text": [
      "1748806441992\n",
      "20\n",
      "140732906840752\n",
      "140732906841072\n",
      "----\n",
      "140732906841072\n",
      "140732906841392\n"
     ]
    }
   ],
   "source": [
    "a=[10,20]\n",
    "print(id(a))\n",
    "print(a[1])\n",
    "print(id(a[0]))\n",
    "print(id(a[1]))\n",
    "a[0]=20\n",
    "a[1]=30\n",
    "print(\"----\")\n",
    "print(id(a[0]))\n",
    "print(id(a[1]))"
   ]
  },
  {
   "cell_type": "code",
   "execution_count": null,
   "metadata": {},
   "outputs": [],
   "source": []
  }
 ],
 "metadata": {
  "kernelspec": {
   "display_name": "Python 3",
   "language": "python",
   "name": "python3"
  },
  "language_info": {
   "codemirror_mode": {
    "name": "ipython",
    "version": 3
   },
   "file_extension": ".py",
   "mimetype": "text/x-python",
   "name": "python",
   "nbconvert_exporter": "python",
   "pygments_lexer": "ipython3",
   "version": "3.7.9"
  }
 },
 "nbformat": 4,
 "nbformat_minor": 4
}
