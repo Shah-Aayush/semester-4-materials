{
 "cells": [
  {
   "cell_type": "markdown",
   "metadata": {},
   "source": [
    "### SciPy, pronounced as Sigh Pi, is a scientific python open source, distributed under the BSD licensed library to perform Mathematical, Scientific and Engineering Computations."
   ]
  },
  {
   "cell_type": "markdown",
   "metadata": {},
   "source": [
    "1. SciPy is built in top of the NumPy\n",
    "2. SciPy is a fully-featured version of Linear Algebra while Numpy contains only a few features.\n",
    "3. Most new Data Science features are available in Scipy rather than Numpy.\n",
    "\n",
    "\n",
    "\n",
    "SciPy works efficiently on NumPy arrays and is standard scientific computing library in Python. SciPy library is composed of sub-modules designed for specific tasks."
   ]
  },
  {
   "cell_type": "markdown",
   "metadata": {},
   "source": [
    "<table>\n",
    "  <tr>\n",
    "    <th>Sub package</th>\n",
    "    <th>Use</th>\n",
    "  </tr>\n",
    "  <tr>\n",
    "    <td>Scipy.fftpack</td>\n",
    "    <td>Fast Fourier Transform</td>\n",
    "  </tr>\n",
    "  <tr>\n",
    "    <td>Scipy.interpolate</td>\n",
    "    <td>Interpolation</td>\n",
    "  </tr>\n",
    "    <tr>\n",
    "    <td>Scipy.integrate</td>\n",
    "    <td>Numerical Integration</td>\n",
    "  </tr>\n",
    "    <tr>\n",
    "    <td>Scipy.linalg</td>\n",
    "    <td>Linear Algebra</td>\n",
    "  </tr>\n",
    "    <tr>\n",
    "    <td>Scipy.io</td>\n",
    "    <td>File Input/Output</td>\n",
    "  </tr>\n",
    "    <tr>\n",
    "    <td>Scipy.optimize</td>\n",
    "    <td>Optimization and Fits</td>\n",
    "  </tr>\n",
    "  <tr>\n",
    "    <td>Scipy.stats</td>\n",
    "    <td>Statistics</td>\n",
    "  </tr>\n",
    "    <tr>\n",
    "    <td>Scipy.signal</td>\n",
    "    <td>Signal Processing</td>\n",
    "  </tr>\n",
    "</table>\n",
    "\n",
    "Along with this, there are many other sub packages of scipy as well i.e. Spatial data structures and algorithms, sparse, clustering, Special function etc"
   ]
  },
  {
   "cell_type": "markdown",
   "metadata": {},
   "source": [
    "# 1D Polynomial in scipy\n",
    "\n",
    "#### poly1d : One dimentional polynomial equations\n",
    "\n",
    "##### First argument is list of coefficients, Second argument is boolean dy default it is False"
   ]
  },
  {
   "cell_type": "code",
   "execution_count": 3,
   "metadata": {},
   "outputs": [
    {
     "name": "stdout",
     "output_type": "stream",
     "text": [
      "   4     2\n",
      "3 x + 1 x - 4 x + 5\n"
     ]
    }
   ],
   "source": [
    "import numpy as np\n",
    "from numpy import poly1d\n",
    "import scipy.constants\n",
    "\n",
    "p = poly1d([3,0,1,-4,5])# (create equation 3x^2 + 4x + 5)\n",
    "print(p)"
   ]
  },
  {
   "cell_type": "code",
   "execution_count": 11,
   "metadata": {},
   "outputs": [
    {
     "name": "stdout",
     "output_type": "stream",
     "text": [
      "   3      2\n",
      "1 x - 12 x + 47 x - 60\n"
     ]
    }
   ],
   "source": [
    "p = poly1d([3,4,5],True) \n",
    "#(due to second arggument is True, first argument is coefficient as root of equation... roots are (x-3)(x-4)(x-5) are roots) \n",
    "print(p)"
   ]
  },
  {
   "cell_type": "markdown",
   "metadata": {},
   "source": [
    "### can perform many operations like finding roots, arithmetics operation"
   ]
  },
  {
   "cell_type": "code",
   "execution_count": 12,
   "metadata": {},
   "outputs": [
    {
     "name": "stdout",
     "output_type": "stream",
     "text": [
      "   6      5       4        3        2\n",
      "1 x - 24 x + 238 x - 1248 x + 3649 x - 5640 x + 3600\n"
     ]
    }
   ],
   "source": [
    "print(p*p)"
   ]
  },
  {
   "cell_type": "code",
   "execution_count": 13,
   "metadata": {},
   "outputs": [
    {
     "data": {
      "text/plain": [
       "array([5., 4., 3.])"
      ]
     },
     "execution_count": 13,
     "metadata": {},
     "output_type": "execute_result"
    }
   ],
   "source": [
    "#find out the roots of p\n",
    "p.r"
   ]
  },
  {
   "cell_type": "code",
   "execution_count": 14,
   "metadata": {},
   "outputs": [
    {
     "data": {
      "text/plain": [
       "poly1d([  1., -12.,  47., -60.])"
      ]
     },
     "execution_count": 14,
     "metadata": {},
     "output_type": "execute_result"
    }
   ],
   "source": [
    "p #result is showing coefficients"
   ]
  },
  {
   "cell_type": "code",
   "execution_count": 15,
   "metadata": {},
   "outputs": [],
   "source": [
    "p1 = poly1d([1,2,3],variable='z') #instead of x euqntion now have z variable"
   ]
  },
  {
   "cell_type": "code",
   "execution_count": 17,
   "metadata": {},
   "outputs": [
    {
     "name": "stdout",
     "output_type": "stream",
     "text": [
      "   2\n",
      "1 z + 2 z + 3\n"
     ]
    }
   ],
   "source": [
    "print(p1)"
   ]
  },
  {
   "cell_type": "markdown",
   "metadata": {},
   "source": [
    "# Clustering\n",
    "We will use Scipy,numpy for this purpose"
   ]
  },
  {
   "cell_type": "code",
   "execution_count": 18,
   "metadata": {},
   "outputs": [
    {
     "data": {
      "text/plain": [
       "array([[0.97461269, 0.80821866, 0.85376557],\n",
       "       [0.59481374, 1.07310813, 0.57585637],\n",
       "       [0.66698739, 0.98630838, 1.45599479],\n",
       "       [1.22229804, 0.51861647, 1.24213933],\n",
       "       [0.50993737, 1.14199839, 1.24941753],\n",
       "       [0.65439458, 1.34114742, 1.42479542],\n",
       "       [1.27417768, 0.94929533, 1.27249067],\n",
       "       [1.36231413, 0.67989307, 1.19345296],\n",
       "       [1.42717191, 0.74100098, 1.17326051],\n",
       "       [0.51524126, 1.42919432, 0.75904083],\n",
       "       [1.21382302, 0.8061546 , 0.86782034],\n",
       "       [0.97444915, 1.42165725, 1.10866878],\n",
       "       [1.00938377, 1.14987142, 0.50130408],\n",
       "       [1.31448486, 1.32502635, 0.98922787],\n",
       "       [0.5033041 , 1.38397604, 1.1128645 ],\n",
       "       [1.07874864, 0.64253643, 0.58118792],\n",
       "       [1.22021927, 0.7044239 , 1.36531949],\n",
       "       [1.26826857, 1.29280747, 1.06732649],\n",
       "       [1.16052888, 1.39246276, 1.15607964],\n",
       "       [0.59972818, 1.28780609, 1.45050828],\n",
       "       [1.16946379, 0.92698047, 0.8468149 ],\n",
       "       [0.79470354, 1.24584371, 0.76255058],\n",
       "       [1.14942415, 0.5298875 , 0.70638808],\n",
       "       [0.95562544, 0.92850932, 0.8991859 ],\n",
       "       [1.10286999, 1.26335381, 1.17321141],\n",
       "       [1.3659289 , 0.52555156, 1.24477691],\n",
       "       [1.26330723, 1.11928964, 0.79322398],\n",
       "       [1.083299  , 1.30198015, 1.03590868],\n",
       "       [1.39678778, 1.49831004, 1.15969858],\n",
       "       [1.25513215, 0.69567334, 0.81359136],\n",
       "       [1.3392493 , 1.2444372 , 1.04203592],\n",
       "       [0.78704619, 1.16257946, 1.11828822],\n",
       "       [1.31366878, 1.35889452, 0.85592746],\n",
       "       [0.85388901, 0.72118208, 1.15374736],\n",
       "       [0.83033741, 0.78114622, 0.68178185],\n",
       "       [1.15588804, 1.43117579, 1.16456719],\n",
       "       [1.39103379, 1.41375388, 1.09666307],\n",
       "       [1.15312392, 0.65090315, 1.26915054],\n",
       "       [0.80534639, 0.79256191, 0.88624746],\n",
       "       [1.21082278, 1.31153401, 0.65916996],\n",
       "       [0.58709731, 0.90161766, 0.82706594],\n",
       "       [1.15341745, 0.59984481, 1.2419831 ],\n",
       "       [0.96184268, 1.36759061, 1.19370971],\n",
       "       [1.15958992, 1.43632509, 1.30592586],\n",
       "       [1.39900894, 1.04990742, 1.14332211],\n",
       "       [1.12521043, 1.35215376, 0.70620126],\n",
       "       [0.7928149 , 1.14195221, 0.61209116],\n",
       "       [1.01634939, 1.03422569, 1.13099356],\n",
       "       [1.1850811 , 1.36967581, 1.2354948 ],\n",
       "       [0.64119477, 0.75415569, 0.76376102],\n",
       "       [0.52930355, 0.65845486, 0.82999091],\n",
       "       [1.2544346 , 1.49076637, 0.76559847],\n",
       "       [1.1105996 , 1.44930341, 0.86109614],\n",
       "       [0.84613857, 0.66831393, 1.39396721],\n",
       "       [0.8449098 , 1.36722453, 0.69961351],\n",
       "       [0.53207281, 1.42673963, 1.28636612],\n",
       "       [0.96156797, 1.02938458, 0.52848727],\n",
       "       [1.4695553 , 0.87190177, 0.63637936],\n",
       "       [1.39781463, 0.62529284, 1.40550083],\n",
       "       [0.51841792, 1.25725186, 1.01196856],\n",
       "       [1.17324577, 0.7697562 , 0.61040537],\n",
       "       [1.2218979 , 1.26615384, 0.99256612],\n",
       "       [1.06358564, 1.49360362, 1.49235805],\n",
       "       [1.44900193, 0.68153903, 1.17140896],\n",
       "       [0.65497477, 1.25359123, 0.7282501 ],\n",
       "       [1.02765641, 0.7356232 , 1.38000071],\n",
       "       [1.17656248, 0.61710082, 1.1147014 ],\n",
       "       [1.1629749 , 0.69271309, 0.6309786 ],\n",
       "       [0.59621604, 1.19094043, 0.5778613 ],\n",
       "       [1.46375468, 1.46625023, 1.04522218],\n",
       "       [0.85038727, 0.52452017, 1.04312528],\n",
       "       [0.61775143, 1.06351907, 1.4858346 ],\n",
       "       [0.65236035, 0.7779175 , 1.12511234],\n",
       "       [1.34202305, 1.09981326, 1.29742862],\n",
       "       [1.38749319, 0.55906871, 1.45189224],\n",
       "       [1.00373012, 0.78192805, 0.83162675],\n",
       "       [1.27267879, 0.63397127, 1.49260308],\n",
       "       [1.1621077 , 1.12565364, 1.19645313],\n",
       "       [0.83734061, 1.01822787, 1.14696224],\n",
       "       [0.75384956, 1.06723471, 0.97125286],\n",
       "       [0.88248271, 1.35074464, 0.79371689],\n",
       "       [1.1849367 , 1.08112074, 1.31056436],\n",
       "       [0.82621006, 1.27159416, 0.89724222],\n",
       "       [1.47271981, 1.1431533 , 0.54357234],\n",
       "       [0.84409421, 1.49165131, 0.76586542],\n",
       "       [0.62363207, 1.3676779 , 1.11716406],\n",
       "       [1.24942958, 0.94636096, 0.81288637],\n",
       "       [0.50163962, 0.8976096 , 0.85600113],\n",
       "       [0.84749295, 0.99751986, 0.61817062],\n",
       "       [1.26785013, 0.81905792, 1.17851728],\n",
       "       [0.67102483, 0.94700293, 1.40071402],\n",
       "       [0.73329479, 0.67539321, 0.8215263 ],\n",
       "       [0.55564609, 1.28909645, 1.28967536],\n",
       "       [0.86632589, 1.42339569, 1.0880129 ],\n",
       "       [0.53990085, 0.66832775, 1.44369682],\n",
       "       [0.6642852 , 0.88796689, 1.37530583],\n",
       "       [1.0648001 , 1.20241031, 1.19495188],\n",
       "       [0.7024151 , 0.58114743, 0.95616431],\n",
       "       [1.21758383, 1.27287308, 1.17306682],\n",
       "       [0.6017681 , 1.06438664, 1.39423662],\n",
       "       [0.37596496, 0.82017727, 0.63345998],\n",
       "       [0.07919161, 0.5907652 , 0.88261912],\n",
       "       [0.16457572, 0.51317843, 0.10601962],\n",
       "       [0.21685016, 0.21658263, 0.87542307],\n",
       "       [0.30354933, 0.97249234, 0.66441266],\n",
       "       [0.96641756, 0.73986382, 0.73478843],\n",
       "       [0.80674968, 0.69208048, 0.72251485],\n",
       "       [0.60812392, 0.7122036 , 0.51394101],\n",
       "       [0.28160175, 0.11169752, 0.34524502],\n",
       "       [0.13479547, 0.05156854, 0.16904167],\n",
       "       [0.66462699, 0.01853874, 0.71117558],\n",
       "       [0.87201832, 0.66562877, 0.85046588],\n",
       "       [0.73658782, 0.13540954, 0.53152057],\n",
       "       [0.38330288, 0.48019864, 0.79312931],\n",
       "       [0.97511722, 0.56602313, 0.95348544],\n",
       "       [0.61886128, 0.56125632, 0.92420257],\n",
       "       [0.559974  , 0.58095799, 0.23059751],\n",
       "       [0.48824904, 0.18270024, 0.46073222],\n",
       "       [0.86607124, 0.1051298 , 0.40683519],\n",
       "       [0.34363519, 0.62554599, 0.14102536],\n",
       "       [0.68857649, 0.08990434, 0.58234803],\n",
       "       [0.02233934, 0.17572376, 0.7330265 ],\n",
       "       [0.69495499, 0.81341896, 0.57900355],\n",
       "       [0.13377788, 0.18159477, 0.30596682],\n",
       "       [0.06684079, 0.56444885, 0.74275265],\n",
       "       [0.61186232, 0.77309507, 0.41524212],\n",
       "       [0.6645242 , 0.20651338, 0.59420564],\n",
       "       [0.36469256, 0.20986568, 0.29342993],\n",
       "       [0.48650632, 0.69200168, 0.87597246],\n",
       "       [0.26450874, 0.35013438, 0.47328556],\n",
       "       [0.09045649, 0.75241368, 0.14725432],\n",
       "       [0.44211107, 0.32396413, 0.12863273],\n",
       "       [0.97476546, 0.73782221, 0.93486582],\n",
       "       [0.03824888, 0.20541255, 0.53371653],\n",
       "       [0.75828731, 0.81106834, 0.50793427],\n",
       "       [0.85469359, 0.32228457, 0.5187231 ],\n",
       "       [0.20109629, 0.13070543, 0.16967058],\n",
       "       [0.19711214, 0.26657456, 0.30698735],\n",
       "       [0.22768824, 0.58408134, 0.63948356],\n",
       "       [0.17932718, 0.88190658, 0.69142002],\n",
       "       [0.05191535, 0.95315074, 0.43129379],\n",
       "       [0.76335723, 0.40601544, 0.31399871],\n",
       "       [0.73153309, 0.46326509, 0.68815009],\n",
       "       [0.44800444, 0.29316105, 0.41128875],\n",
       "       [0.6249479 , 0.892415  , 0.12141107],\n",
       "       [0.05735497, 0.96718917, 0.21651551],\n",
       "       [0.85759037, 0.40712245, 0.68588727],\n",
       "       [0.78515225, 0.93374599, 0.3887022 ],\n",
       "       [0.18717624, 0.75783827, 0.12673101],\n",
       "       [0.19356292, 0.38595397, 0.41710296],\n",
       "       [0.24157405, 0.58359731, 0.31662433],\n",
       "       [0.13355782, 0.93935624, 0.27026036],\n",
       "       [0.14487603, 0.81062566, 0.99142918],\n",
       "       [0.69288183, 0.80753958, 0.0796967 ],\n",
       "       [0.78137496, 0.03048459, 0.36996319],\n",
       "       [0.3649045 , 0.25161255, 0.80256472],\n",
       "       [0.23266912, 0.17789689, 0.37303382],\n",
       "       [0.68382539, 0.37140982, 0.29729652],\n",
       "       [0.75954637, 0.23199857, 0.24596322],\n",
       "       [0.48698617, 0.69856975, 0.33618592],\n",
       "       [0.02851085, 0.26661658, 0.21822124],\n",
       "       [0.05863695, 0.88766382, 0.82965525],\n",
       "       [0.49329657, 0.21305439, 0.07590441],\n",
       "       [0.10568912, 0.36676579, 0.40949282],\n",
       "       [0.02334841, 0.90815171, 0.20088735],\n",
       "       [0.54414533, 0.34692657, 0.61084721],\n",
       "       [0.00610605, 0.97079168, 0.33562844],\n",
       "       [0.06618507, 0.66973373, 0.50770736],\n",
       "       [0.52763123, 0.86848701, 0.85176519],\n",
       "       [0.02675994, 0.66476726, 0.20702885],\n",
       "       [0.24777665, 0.79993243, 0.76367774],\n",
       "       [0.23891713, 0.59838292, 0.5305698 ],\n",
       "       [0.08458696, 0.98747421, 0.39735242],\n",
       "       [0.15834341, 0.17480928, 0.21698966],\n",
       "       [0.64244672, 0.18935402, 0.22635213],\n",
       "       [0.04893592, 0.26036109, 0.71002162],\n",
       "       [0.99412282, 0.34706322, 0.93075043],\n",
       "       [0.62881167, 0.38222556, 0.33790867],\n",
       "       [0.46124854, 0.97097401, 0.54668429],\n",
       "       [0.37475952, 0.56347259, 0.23063023],\n",
       "       [0.0646711 , 0.53745324, 0.01142583],\n",
       "       [0.85922416, 0.62750711, 0.89862605],\n",
       "       [0.2781202 , 0.17692354, 0.58230149],\n",
       "       [0.26286157, 0.74858099, 0.07652425],\n",
       "       [0.28370002, 0.69730151, 0.38237897],\n",
       "       [0.9496363 , 0.58936597, 0.93499006],\n",
       "       [0.81911447, 0.7683707 , 0.99523956],\n",
       "       [0.66522758, 0.72586617, 0.65934237],\n",
       "       [0.87377299, 0.05124182, 0.09095843],\n",
       "       [0.189642  , 0.33233835, 0.68418501],\n",
       "       [0.96307593, 0.22791534, 0.82480305],\n",
       "       [0.93641942, 0.49085426, 0.81807902],\n",
       "       [0.61288958, 0.40099145, 0.81177788],\n",
       "       [0.06105543, 0.67476635, 0.52170112],\n",
       "       [0.2738367 , 0.64865225, 0.9737296 ],\n",
       "       [0.42532845, 0.58365544, 0.55250532],\n",
       "       [0.91008957, 0.71944199, 0.36323823],\n",
       "       [0.75673707, 0.90858755, 0.30802082],\n",
       "       [0.80982718, 0.88559504, 0.33862635],\n",
       "       [0.72935263, 0.77701565, 0.69486611]])"
      ]
     },
     "execution_count": 18,
     "metadata": {},
     "output_type": "execute_result"
    }
   ],
   "source": [
    "from numpy import vstack,array\n",
    "from numpy.random import rand\n",
    "\n",
    "# data generation with three features\n",
    "data = vstack((rand(100,3) + array([.5,.5,.5]),rand(100,3)))\n",
    "data"
   ]
  },
  {
   "cell_type": "code",
   "execution_count": 20,
   "metadata": {},
   "outputs": [
    {
     "name": "stdout",
     "output_type": "stream",
     "text": [
      "[[2.41757016 2.09484279 2.26943902]\n",
      " [1.47546196 2.78141663 1.530714  ]\n",
      " [1.65449191 2.55643812 3.8702561 ]\n",
      " [3.03196468 1.34421541 3.30179569]\n",
      " [1.26492234 2.95997507 3.32114225]\n",
      " [1.62325488 3.4761546  3.78732341]\n",
      " [3.16065445 2.46050304 3.38247417]\n",
      " [3.37928083 1.76223239 3.17237988]\n",
      " [3.54016344 1.92061955 3.11870527]\n",
      " [1.27807889 3.70436562 2.01764623]\n",
      " [3.01094203 2.0894929  2.30679875]\n",
      " [2.41716448 3.68483009 2.9470106 ]\n",
      " [2.50382136 2.9803814  1.33254266]\n",
      " [3.26063819 3.43436997 2.62951848]\n",
      " [1.24846823 3.58716319 2.95816348]\n",
      " [2.67588402 1.66540675 1.54488607]\n",
      " [3.02680822 1.82581448 3.62922732]\n",
      " [3.14599664 3.35086102 2.8371165 ]\n",
      " [2.87874355 3.60916013 3.0730359 ]\n",
      " [1.48765244 3.33789781 3.85567211]\n",
      " [2.90090699 2.40266459 2.25096309]\n",
      " [1.97129751 3.22913444 2.02697567]\n",
      " [2.85119777 1.37342907 1.8776872 ]\n",
      " [2.37047144 2.40662724 2.39017317]\n",
      " [2.7357181  3.27451931 3.11857477]\n",
      " [3.38824742 1.36219064 3.30880678]\n",
      " [3.13368982 2.90111568 2.10851025]\n",
      " [2.68717139 3.37463593 2.75360318]\n",
      " [3.46479426 3.88350843 3.0826556 ]\n",
      " [3.11341116 1.80313366 2.16264984]\n",
      " [3.3220675  3.22548887 2.7698903 ]\n",
      " [1.9523031  3.01331968 2.97258054]\n",
      " [3.25861388 3.52215375 2.27518567]\n",
      " [2.1181097  1.86925042 3.06683635]\n",
      " [2.05968889 2.02467305 1.81228007]\n",
      " [2.86723172 3.70950144 3.0955971 ]\n",
      " [3.45052122 3.66434515 2.91509761]\n",
      " [2.86037521 1.68709265 3.37359559]\n",
      " [1.99769756 2.05426166 2.35578085]\n",
      " [3.00349981 3.39939881 1.75217424]\n",
      " [1.45632102 2.33692607 2.19846734]\n",
      " [2.86110333 1.55475324 3.3013804 ]\n",
      " [2.38589359 3.54469336 3.17306236]\n",
      " [2.8764144  3.72284805 3.47135   ]\n",
      " [3.47030393 2.72128213 3.03912444]\n",
      " [2.79113457 3.50468219 1.87719059]\n",
      " [1.96661265 2.95985538 1.62703159]\n",
      " [2.52109989 2.68063623 3.00635327]\n",
      " [2.93964642 3.55009807 3.28413351]\n",
      " [1.59051216 1.95471558 2.03019322]\n",
      " [1.31296101 1.70666612 2.20624236]\n",
      " [3.11168085 3.86395581 2.03507743]\n",
      " [2.75489174 3.75648689 2.28892479]\n",
      " [2.09888438 1.73222012 3.70537733]\n",
      " [2.09583636 3.54374452 1.85967936]\n",
      " [1.31983028 3.69800323 3.41935724]\n",
      " [2.38521214 2.66808843 1.40479971]\n",
      " [3.64529733 2.25990469 1.69159335]\n",
      " [3.46734142 1.62071263 3.73603545]\n",
      " [1.28595873 3.25870352 2.68996668]\n",
      " [2.91028835 1.99515094 1.62255052]\n",
      " [3.03097213 3.28177679 2.63839205]\n",
      " [2.63827151 3.87130975 3.96691518]\n",
      " [3.59431379 1.76649859 3.11378359]\n",
      " [1.62469406 3.24921545 1.93579977]\n",
      " [2.54914747 1.90668073 3.66825224]\n",
      " [2.91851559 1.59947953 2.96304623]\n",
      " [2.884811   1.79546092 1.67723731]\n",
      " [1.47894041 3.08682921 1.53604343]\n",
      " [3.63090863 3.80041179 2.77835988]\n",
      " [2.10942348 1.35951735 2.77278599]\n",
      " [1.53235991 2.7565625  3.94957485]\n",
      " [1.61820888 2.01630443 2.99072011]\n",
      " [3.32894791 2.85063436 3.44876303]\n",
      " [3.44173862 1.4490646  3.85935088]\n",
      " [2.48979724 2.02669947 2.21059067]\n",
      " [3.15693638 1.64320648 3.96756649]\n",
      " [2.88265988 2.9176107  3.1803548 ]\n",
      " [2.07706064 2.63917109 3.04880047]\n",
      " [1.86995738 2.76619317 2.58173814]\n",
      " [2.18903765 3.50102988 2.10982048]\n",
      " [2.93928823 2.80218472 3.48367984]\n",
      " [2.04945084 3.29587771 2.38500658]\n",
      " [3.65314704 2.96296853 1.44489814]\n",
      " [2.09381325 3.8662495  2.03578703]\n",
      " [1.54694712 3.54491962 2.96959235]\n",
      " [3.09926569 2.45289737 2.16077588]\n",
      " [1.2443394  2.32653746 2.27538149]\n",
      " [2.102244   2.58549746 1.64319173]\n",
      " [3.14495869 2.12293735 3.13267857]\n",
      " [1.66450695 2.45456132 3.72331138]\n",
      " [1.81897037 1.75056907 2.18374213]\n",
      " [1.37830486 3.34124232 3.42815369]\n",
      " [2.14895993 3.689336   2.89210412]\n",
      " [1.33924808 1.73225593 3.83756621]\n",
      " [1.64778901 2.30154428 3.65577254]\n",
      " [2.64128405 3.1165583  3.17636423]\n",
      " [1.74237193 1.50629102 2.54163049]\n",
      " [3.02027089 3.29919256 3.11819041]\n",
      " [1.49271256 2.75881117 3.70609345]\n",
      " [0.93259781 2.12583862 1.68383318]\n",
      " [0.19643831 1.53121956 2.34613616]\n",
      " [0.40823741 1.33012041 0.2818163 ]\n",
      " [0.53790648 0.56136611 2.32700797]\n",
      " [0.75296763 2.52062799 1.76611014]\n",
      " [2.39724176 1.91767212 1.95317965]\n",
      " [2.00117849 1.79382125 1.92055461]\n",
      " [1.50847845 1.84597888 1.36613355]\n",
      " [0.69852568 0.28951167 0.91771389]\n",
      " [0.33436617 0.13366183 0.44933851]\n",
      " [1.64863683 0.04805104 1.8904131 ]\n",
      " [2.16308027 1.72526037 2.26066796]\n",
      " [1.82713886 0.35097148 1.41286269]\n",
      " [0.95079985 1.24463925 2.10825859]\n",
      " [2.41882167 1.46708994 2.53450965]\n",
      " [1.53511295 1.45473472 2.4566713 ]\n",
      " [1.38904043 1.5058     0.61296333]\n",
      " [1.21112348 0.47354547 1.22469646]\n",
      " [2.14832825 0.27248863 1.08142994]\n",
      " [0.85240237 1.62136878 0.3748669 ]\n",
      " [1.70804464 0.23302539 1.54796983]\n",
      " [0.05541372 0.45546293 1.94849618]\n",
      " [1.72386679 2.10832158 1.53907969]\n",
      " [0.33184199 0.47068016 0.81330643]\n",
      " [0.16580157 1.46300954 1.97434977]\n",
      " [1.51775171 2.00380505 1.10377686]\n",
      " [1.64838186 0.53526735 1.57948917]\n",
      " [0.90463614 0.54395626 0.77998149]\n",
      " [1.20680058 1.79361701 2.32846832]\n",
      " [0.65612569 0.90752234 1.25806515]\n",
      " [0.22438135 1.95020042 0.39142443]\n",
      " [1.09667618 0.83969099 0.34192541]\n",
      " [2.41794912 1.91238043 2.48501586]\n",
      " [0.09487804 0.53241409 1.41869988]\n",
      " [1.88096543 2.10222896 1.35016671]\n",
      " [2.1201055  0.8353377  1.37884507]\n",
      " [0.4988283  0.33877879 0.45101026]\n",
      " [0.48894543 0.69094148 0.81601918]\n",
      " [0.56479082 1.51389548 1.69984478]\n",
      " [0.44482904 2.28583642 1.83789982]\n",
      " [0.12877833 2.47049597 1.14644464]\n",
      " [1.89354158 1.05236188 0.83465643]\n",
      " [1.81460038 1.20074874 1.82920784]\n",
      " [1.11129495 0.75985168 1.0932682 ]\n",
      " [1.55021108 2.31307346 0.32272912]\n",
      " [0.14227154 2.50688256 0.57553123]\n",
      " [2.12729107 1.05523118 1.82319292]\n",
      " [1.94760509 2.42020032 1.03322971]\n",
      " [0.464299   1.96426055 0.33687033]\n",
      " [0.48014144 1.00036405 1.10872325]\n",
      " [0.59923518 1.51264091 0.84163572]\n",
      " [0.33129612 2.43474168 0.71839324]\n",
      " [0.35937144 2.10108156 2.63536987]\n",
      " [1.71872423 2.09308267 0.21184598]\n",
      " [1.93823537 0.07901379 0.98341855]\n",
      " [0.90516184 0.65216105 2.13333935]\n",
      " [0.57714612 0.46109555 0.99158075]\n",
      " [1.69625932 0.9626667  0.79025947]\n",
      " [1.88408857 0.60132307 0.65380774]\n",
      " [1.20799087 1.81064096 0.89363342]\n",
      " [0.07072244 0.6910504  0.58006532]\n",
      " [0.14545156 2.30075874 2.20535013]\n",
      " [1.2236441  0.55222116 0.20176548]\n",
      " [0.26216657 0.9506297  1.08849434]\n",
      " [0.05791678 2.35386184 0.53398919]\n",
      " [1.3497767  0.89920792 1.62372499]\n",
      " [0.01514633 2.51621998 0.89215156]\n",
      " [0.16417501 1.73590012 1.34956356]\n",
      " [1.30881275 2.25105389 2.26412171]\n",
      " [0.06637922 1.7230274  0.55031425]\n",
      " [0.61462102 2.07336549 2.02997185]\n",
      " [0.59264457 1.55096413 1.41033539]\n",
      " [0.20982172 2.55945986 1.05622331]\n",
      " [0.39277788 0.45309267 0.57679159]\n",
      " [1.59361769 0.49079156 0.60167847]\n",
      " [0.12138772 0.67483661 1.8873457 ]\n",
      " [2.4659659  0.89956212 2.47407651]\n",
      " [1.55979534 0.99070028 0.89821275]\n",
      " [1.14414753 2.51669257 1.45317017]\n",
      " [0.92960768 1.46047914 0.61305031]\n",
      " [0.16041953 1.39303891 0.0303716 ]\n",
      " [2.13134377 1.62645185 2.38868501]\n",
      " [0.68988954 0.4585727  1.54784611]\n",
      " [0.65203983 1.94026638 0.20341312]\n",
      " [0.70373052 1.80735376 1.01642158]\n",
      " [2.35561511 1.52759285 2.4853461 ]\n",
      " [2.03184989 1.99155982 2.64549845]\n",
      " [1.65012661 1.88139125 1.75263253]\n",
      " [2.16743279 0.13281499 0.24178138]\n",
      " [0.47041543 0.86139634 1.81866806]\n",
      " [2.38895271 0.59073965 2.19245224]\n",
      " [2.32283006 1.27225781 2.17457872]\n",
      " [1.52029987 1.03934009 2.15782933]\n",
      " [0.15145071 1.74894431 1.38676109]\n",
      " [0.67926413 1.68125849 2.5883217 ]\n",
      " [1.05504614 1.51279159 1.46864335]\n",
      " [2.25751769 1.86474024 0.96554259]\n",
      " [1.87711999 2.3549915  0.81876629]\n",
      " [2.00881236 2.29539663 0.90012047]\n",
      " [1.80919165 2.01396691 1.84706004]]\n",
      "[[2.39503278 3.27991266 2.89896439]\n",
      " [2.36535951 1.87601398 2.35556549]\n",
      " [0.84246152 1.2712558  1.13328137]]\n"
     ]
    }
   ],
   "source": [
    "# computing K-Means with K = 3 (2 clusters)\n",
    "from scipy.cluster.vq import kmeans,vq,whiten\n",
    "data = whiten(data)\n",
    "print(data)\n",
    "centroids,_ = kmeans(data,3)\n",
    "print(centroids)\n",
    "\n",
    "#Check following videos from to learn k mean\n",
    "# https://www.youtube.com/watch?v=hDmNF9JG3lo\n",
    "# https://www.youtube.com/watch?v=CLKW6uWJtTc"
   ]
  },
  {
   "cell_type": "code",
   "execution_count": 21,
   "metadata": {},
   "outputs": [
    {
     "name": "stdout",
     "output_type": "stream",
     "text": [
      "[1 1 0 1 0 0 0 1 1 0 1 0 1 0 0 1 1 0 0 0 1 0 1 1 0 1 0 0 0 1 0 0 0 1 1 0 0\n",
      " 1 1 0 1 1 0 0 0 0 1 0 0 1 1 0 0 1 0 0 1 1 1 0 1 0 0 1 0 1 1 1 0 0 1 0 1 0\n",
      " 1 1 1 0 0 0 0 0 0 1 0 0 1 1 1 1 0 1 0 0 1 0 0 1 0 0 2 2 2 2 2 1 1 2 2 2 2\n",
      " 1 2 2 1 1 2 2 2 2 2 2 1 2 2 2 2 2 1 2 2 2 1 2 1 2 2 2 2 2 2 2 1 2 2 2 1 1\n",
      " 2 2 2 2 2 2 2 2 2 2 2 2 2 2 2 2 2 2 2 2 1 2 2 2 2 2 2 2 1 2 2 2 2 1 2 2 2\n",
      " 1 1 1 2 2 1 1 1 2 2 2 1 2 1 1]\n"
     ]
    }
   ],
   "source": [
    "clx,_ = vq(data,centroids)\n",
    "print(clx)"
   ]
  },
  {
   "cell_type": "markdown",
   "metadata": {},
   "source": [
    "# Constant\n",
    "The scipy.constants package provides various constants. We have to import the required constant and use them as per the requirement."
   ]
  },
  {
   "cell_type": "code",
   "execution_count": 22,
   "metadata": {},
   "outputs": [
    {
     "data": {
      "text/plain": [
       "['Angstrom star',\n",
       " 'Avogadro constant',\n",
       " 'Bohr magneton',\n",
       " 'Bohr magneton in Hz/T',\n",
       " 'Bohr magneton in K/T',\n",
       " 'Bohr magneton in eV/T',\n",
       " 'Bohr magneton in inverse meters per tesla',\n",
       " 'Bohr radius',\n",
       " 'Boltzmann constant',\n",
       " 'Boltzmann constant in Hz/K',\n",
       " 'Boltzmann constant in eV/K',\n",
       " 'Boltzmann constant in inverse meters per kelvin',\n",
       " 'Compton wavelength',\n",
       " 'Compton wavelength over 2 pi',\n",
       " 'Cu x unit',\n",
       " 'Faraday constant',\n",
       " 'Faraday constant for conventional electric current',\n",
       " 'Fermi coupling constant',\n",
       " 'Hartree energy',\n",
       " 'Hartree energy in eV',\n",
       " 'Josephson constant',\n",
       " 'Loschmidt constant (273.15 K, 100 kPa)',\n",
       " 'Loschmidt constant (273.15 K, 101.325 kPa)',\n",
       " 'Mo x unit',\n",
       " 'Newtonian constant of gravitation',\n",
       " 'Newtonian constant of gravitation over h-bar c',\n",
       " 'Planck constant',\n",
       " 'Planck constant in eV s',\n",
       " 'Planck constant over 2 pi',\n",
       " 'Planck constant over 2 pi in eV s',\n",
       " 'Planck constant over 2 pi times c in MeV fm',\n",
       " 'Planck length',\n",
       " 'Planck mass',\n",
       " 'Planck mass energy equivalent in GeV',\n",
       " 'Planck temperature',\n",
       " 'Planck time',\n",
       " 'Rydberg constant',\n",
       " 'Rydberg constant times c in Hz',\n",
       " 'Rydberg constant times hc in J',\n",
       " 'Rydberg constant times hc in eV',\n",
       " 'Sackur-Tetrode constant (1 K, 100 kPa)',\n",
       " 'Sackur-Tetrode constant (1 K, 101.325 kPa)',\n",
       " 'Stefan-Boltzmann constant',\n",
       " 'Thomson cross section',\n",
       " 'Wien frequency displacement law constant',\n",
       " 'Wien wavelength displacement law constant',\n",
       " 'alpha particle mass',\n",
       " 'alpha particle mass energy equivalent',\n",
       " 'alpha particle mass energy equivalent in MeV',\n",
       " 'alpha particle mass in u',\n",
       " 'alpha particle molar mass',\n",
       " 'alpha particle-electron mass ratio',\n",
       " 'alpha particle-proton mass ratio',\n",
       " 'atomic mass constant',\n",
       " 'atomic mass constant energy equivalent',\n",
       " 'atomic mass constant energy equivalent in MeV',\n",
       " 'atomic mass unit-electron volt relationship',\n",
       " 'atomic mass unit-hartree relationship',\n",
       " 'atomic mass unit-hertz relationship',\n",
       " 'atomic mass unit-inverse meter relationship',\n",
       " 'atomic mass unit-joule relationship',\n",
       " 'atomic mass unit-kelvin relationship',\n",
       " 'atomic mass unit-kilogram relationship',\n",
       " 'atomic unit of 1st hyperpolarizability',\n",
       " 'atomic unit of 2nd hyperpolarizability',\n",
       " 'atomic unit of action',\n",
       " 'atomic unit of charge',\n",
       " 'atomic unit of charge density',\n",
       " 'atomic unit of current',\n",
       " 'atomic unit of electric dipole mom.',\n",
       " 'atomic unit of electric field',\n",
       " 'atomic unit of electric field gradient',\n",
       " 'atomic unit of electric polarizability',\n",
       " 'atomic unit of electric potential',\n",
       " 'atomic unit of electric quadrupole mom.',\n",
       " 'atomic unit of energy',\n",
       " 'atomic unit of force',\n",
       " 'atomic unit of length',\n",
       " 'atomic unit of mag. dipole mom.',\n",
       " 'atomic unit of mag. flux density',\n",
       " 'atomic unit of magnetizability',\n",
       " 'atomic unit of mass',\n",
       " 'atomic unit of mom.um',\n",
       " 'atomic unit of permittivity',\n",
       " 'atomic unit of time',\n",
       " 'atomic unit of velocity',\n",
       " 'characteristic impedance of vacuum',\n",
       " 'classical electron radius',\n",
       " 'conductance quantum',\n",
       " 'conventional value of Josephson constant',\n",
       " 'conventional value of von Klitzing constant',\n",
       " 'deuteron g factor',\n",
       " 'deuteron mag. mom.',\n",
       " 'deuteron mag. mom. to Bohr magneton ratio',\n",
       " 'deuteron mag. mom. to nuclear magneton ratio',\n",
       " 'deuteron mass',\n",
       " 'deuteron mass energy equivalent',\n",
       " 'deuteron mass energy equivalent in MeV',\n",
       " 'deuteron mass in u',\n",
       " 'deuteron molar mass',\n",
       " 'deuteron rms charge radius',\n",
       " 'deuteron-electron mag. mom. ratio',\n",
       " 'deuteron-electron mass ratio',\n",
       " 'deuteron-neutron mag. mom. ratio',\n",
       " 'deuteron-proton mag. mom. ratio',\n",
       " 'deuteron-proton mass ratio',\n",
       " 'electric constant',\n",
       " 'electron charge to mass quotient',\n",
       " 'electron g factor',\n",
       " 'electron gyromag. ratio',\n",
       " 'electron gyromag. ratio over 2 pi',\n",
       " 'electron mag. mom.',\n",
       " 'electron mag. mom. anomaly',\n",
       " 'electron mag. mom. to Bohr magneton ratio',\n",
       " 'electron mag. mom. to nuclear magneton ratio',\n",
       " 'electron mass',\n",
       " 'electron mass energy equivalent',\n",
       " 'electron mass energy equivalent in MeV',\n",
       " 'electron mass in u',\n",
       " 'electron molar mass',\n",
       " 'electron to alpha particle mass ratio',\n",
       " 'electron to shielded helion mag. mom. ratio',\n",
       " 'electron to shielded proton mag. mom. ratio',\n",
       " 'electron volt',\n",
       " 'electron volt-atomic mass unit relationship',\n",
       " 'electron volt-hartree relationship',\n",
       " 'electron volt-hertz relationship',\n",
       " 'electron volt-inverse meter relationship',\n",
       " 'electron volt-joule relationship',\n",
       " 'electron volt-kelvin relationship',\n",
       " 'electron volt-kilogram relationship',\n",
       " 'electron-deuteron mag. mom. ratio',\n",
       " 'electron-deuteron mass ratio',\n",
       " 'electron-helion mass ratio',\n",
       " 'electron-muon mag. mom. ratio',\n",
       " 'electron-muon mass ratio',\n",
       " 'electron-neutron mag. mom. ratio',\n",
       " 'electron-neutron mass ratio',\n",
       " 'electron-proton mag. mom. ratio',\n",
       " 'electron-proton mass ratio',\n",
       " 'electron-tau mass ratio',\n",
       " 'electron-triton mass ratio',\n",
       " 'elementary charge',\n",
       " 'elementary charge over h',\n",
       " 'fine-structure constant',\n",
       " 'first radiation constant',\n",
       " 'first radiation constant for spectral radiance',\n",
       " 'hartree-atomic mass unit relationship',\n",
       " 'hartree-electron volt relationship',\n",
       " 'hartree-hertz relationship',\n",
       " 'hartree-inverse meter relationship',\n",
       " 'hartree-joule relationship',\n",
       " 'hartree-kelvin relationship',\n",
       " 'hartree-kilogram relationship',\n",
       " 'helion g factor',\n",
       " 'helion mag. mom.',\n",
       " 'helion mag. mom. to Bohr magneton ratio',\n",
       " 'helion mag. mom. to nuclear magneton ratio',\n",
       " 'helion mass',\n",
       " 'helion mass energy equivalent',\n",
       " 'helion mass energy equivalent in MeV',\n",
       " 'helion mass in u',\n",
       " 'helion molar mass',\n",
       " 'helion-electron mass ratio',\n",
       " 'helion-proton mass ratio',\n",
       " 'hertz-atomic mass unit relationship',\n",
       " 'hertz-electron volt relationship',\n",
       " 'hertz-hartree relationship',\n",
       " 'hertz-inverse meter relationship',\n",
       " 'hertz-joule relationship',\n",
       " 'hertz-kelvin relationship',\n",
       " 'hertz-kilogram relationship',\n",
       " 'inverse fine-structure constant',\n",
       " 'inverse meter-atomic mass unit relationship',\n",
       " 'inverse meter-electron volt relationship',\n",
       " 'inverse meter-hartree relationship',\n",
       " 'inverse meter-hertz relationship',\n",
       " 'inverse meter-joule relationship',\n",
       " 'inverse meter-kelvin relationship',\n",
       " 'inverse meter-kilogram relationship',\n",
       " 'inverse of conductance quantum',\n",
       " 'joule-atomic mass unit relationship',\n",
       " 'joule-electron volt relationship',\n",
       " 'joule-hartree relationship',\n",
       " 'joule-hertz relationship',\n",
       " 'joule-inverse meter relationship',\n",
       " 'joule-kelvin relationship',\n",
       " 'joule-kilogram relationship',\n",
       " 'kelvin-atomic mass unit relationship',\n",
       " 'kelvin-electron volt relationship',\n",
       " 'kelvin-hartree relationship',\n",
       " 'kelvin-hertz relationship',\n",
       " 'kelvin-inverse meter relationship',\n",
       " 'kelvin-joule relationship',\n",
       " 'kelvin-kilogram relationship',\n",
       " 'kilogram-atomic mass unit relationship',\n",
       " 'kilogram-electron volt relationship',\n",
       " 'kilogram-hartree relationship',\n",
       " 'kilogram-hertz relationship',\n",
       " 'kilogram-inverse meter relationship',\n",
       " 'kilogram-joule relationship',\n",
       " 'kilogram-kelvin relationship',\n",
       " 'lattice parameter of silicon',\n",
       " 'mag. constant',\n",
       " 'mag. flux quantum',\n",
       " 'molar Planck constant',\n",
       " 'molar Planck constant times c',\n",
       " 'molar gas constant',\n",
       " 'molar mass constant',\n",
       " 'molar mass of carbon-12',\n",
       " 'molar volume of ideal gas (273.15 K, 100 kPa)',\n",
       " 'molar volume of ideal gas (273.15 K, 101.325 kPa)',\n",
       " 'molar volume of silicon',\n",
       " 'muon Compton wavelength',\n",
       " 'muon Compton wavelength over 2 pi',\n",
       " 'muon g factor',\n",
       " 'muon mag. mom.',\n",
       " 'muon mag. mom. anomaly',\n",
       " 'muon mag. mom. to Bohr magneton ratio',\n",
       " 'muon mag. mom. to nuclear magneton ratio',\n",
       " 'muon mass',\n",
       " 'muon mass energy equivalent',\n",
       " 'muon mass energy equivalent in MeV',\n",
       " 'muon mass in u',\n",
       " 'muon molar mass',\n",
       " 'muon-electron mass ratio',\n",
       " 'muon-neutron mass ratio',\n",
       " 'muon-proton mag. mom. ratio',\n",
       " 'muon-proton mass ratio',\n",
       " 'muon-tau mass ratio',\n",
       " 'natural unit of action',\n",
       " 'natural unit of action in eV s',\n",
       " 'natural unit of energy',\n",
       " 'natural unit of energy in MeV',\n",
       " 'natural unit of length',\n",
       " 'natural unit of mass',\n",
       " 'natural unit of mom.um',\n",
       " 'natural unit of mom.um in MeV/c',\n",
       " 'natural unit of time',\n",
       " 'natural unit of velocity',\n",
       " 'neutron Compton wavelength',\n",
       " 'neutron Compton wavelength over 2 pi',\n",
       " 'neutron g factor',\n",
       " 'neutron gyromag. ratio',\n",
       " 'neutron gyromag. ratio over 2 pi',\n",
       " 'neutron mag. mom.',\n",
       " 'neutron mag. mom. to Bohr magneton ratio',\n",
       " 'neutron mag. mom. to nuclear magneton ratio',\n",
       " 'neutron mass',\n",
       " 'neutron mass energy equivalent',\n",
       " 'neutron mass energy equivalent in MeV',\n",
       " 'neutron mass in u',\n",
       " 'neutron molar mass',\n",
       " 'neutron to shielded proton mag. mom. ratio',\n",
       " 'neutron-electron mag. mom. ratio',\n",
       " 'neutron-electron mass ratio',\n",
       " 'neutron-muon mass ratio',\n",
       " 'neutron-proton mag. mom. ratio',\n",
       " 'neutron-proton mass difference',\n",
       " 'neutron-proton mass difference energy equivalent',\n",
       " 'neutron-proton mass difference energy equivalent in MeV',\n",
       " 'neutron-proton mass difference in u',\n",
       " 'neutron-proton mass ratio',\n",
       " 'neutron-tau mass ratio',\n",
       " 'nuclear magneton',\n",
       " 'nuclear magneton in K/T',\n",
       " 'nuclear magneton in MHz/T',\n",
       " 'nuclear magneton in eV/T',\n",
       " 'nuclear magneton in inverse meters per tesla',\n",
       " 'proton Compton wavelength',\n",
       " 'proton Compton wavelength over 2 pi',\n",
       " 'proton charge to mass quotient',\n",
       " 'proton g factor',\n",
       " 'proton gyromag. ratio',\n",
       " 'proton gyromag. ratio over 2 pi',\n",
       " 'proton mag. mom.',\n",
       " 'proton mag. mom. to Bohr magneton ratio',\n",
       " 'proton mag. mom. to nuclear magneton ratio',\n",
       " 'proton mag. shielding correction',\n",
       " 'proton mass',\n",
       " 'proton mass energy equivalent',\n",
       " 'proton mass energy equivalent in MeV',\n",
       " 'proton mass in u',\n",
       " 'proton molar mass',\n",
       " 'proton rms charge radius',\n",
       " 'proton-electron mass ratio',\n",
       " 'proton-muon mass ratio',\n",
       " 'proton-neutron mag. mom. ratio',\n",
       " 'proton-neutron mass ratio',\n",
       " 'proton-tau mass ratio',\n",
       " 'quantum of circulation',\n",
       " 'quantum of circulation times 2',\n",
       " 'second radiation constant',\n",
       " 'shielded helion gyromag. ratio',\n",
       " 'shielded helion gyromag. ratio over 2 pi',\n",
       " 'shielded helion mag. mom.',\n",
       " 'shielded helion mag. mom. to Bohr magneton ratio',\n",
       " 'shielded helion mag. mom. to nuclear magneton ratio',\n",
       " 'shielded helion to proton mag. mom. ratio',\n",
       " 'shielded helion to shielded proton mag. mom. ratio',\n",
       " 'shielded proton gyromag. ratio',\n",
       " 'shielded proton gyromag. ratio over 2 pi',\n",
       " 'shielded proton mag. mom.',\n",
       " 'shielded proton mag. mom. to Bohr magneton ratio',\n",
       " 'shielded proton mag. mom. to nuclear magneton ratio',\n",
       " 'speed of light in vacuum',\n",
       " 'standard acceleration of gravity',\n",
       " 'standard atmosphere',\n",
       " 'standard-state pressure',\n",
       " 'tau Compton wavelength',\n",
       " 'tau Compton wavelength over 2 pi',\n",
       " 'tau mass',\n",
       " 'tau mass energy equivalent',\n",
       " 'tau mass energy equivalent in MeV',\n",
       " 'tau mass in u',\n",
       " 'tau molar mass',\n",
       " 'tau-electron mass ratio',\n",
       " 'tau-muon mass ratio',\n",
       " 'tau-neutron mass ratio',\n",
       " 'tau-proton mass ratio',\n",
       " 'triton g factor',\n",
       " 'triton mag. mom.',\n",
       " 'triton mag. mom. to Bohr magneton ratio',\n",
       " 'triton mag. mom. to nuclear magneton ratio',\n",
       " 'triton mass',\n",
       " 'triton mass energy equivalent',\n",
       " 'triton mass energy equivalent in MeV',\n",
       " 'triton mass in u',\n",
       " 'triton molar mass',\n",
       " 'triton-electron mass ratio',\n",
       " 'triton-proton mass ratio',\n",
       " 'unified atomic mass unit',\n",
       " 'von Klitzing constant',\n",
       " 'weak mixing angle',\n",
       " '{220} lattice spacing of silicon']"
      ]
     },
     "execution_count": 22,
     "metadata": {},
     "output_type": "execute_result"
    }
   ],
   "source": [
    "scipy.constants.find()"
   ]
  },
  {
   "cell_type": "markdown",
   "metadata": {},
   "source": [
    "# FFT pack\n",
    "Fourier Transformation is computed on a time domain signal to check its behavior in the frequency domain. Fourier transformation finds its application in disciplines such as signal and noise processing, image processing, audio signal processing, etc. SciPy offers the fftpack module, which lets the user compute fast Fourier transforms.\n",
    "\n",
    "The FFT y[k] of length N of the length-N sequence x[n] is calculated by fft() and the inverse transform is calculated using ifft().\n",
    "\n",
    "A Discrete Cosine Transform (DCT) expresses a finite sequence of data points in terms of a sum of cosine functions oscillating at different frequencies. SciPy provides a DCT with the function dct and a corresponding IDCT with the function idct."
   ]
  },
  {
   "cell_type": "code",
   "execution_count": 23,
   "metadata": {},
   "outputs": [
    {
     "data": {
      "text/plain": [
       "array([ 4.5       +0.j        ,  2.08155948-1.65109876j,\n",
       "       -1.83155948+1.60822041j, -1.83155948-1.60822041j,\n",
       "        2.08155948+1.65109876j])"
      ]
     },
     "execution_count": 23,
     "metadata": {},
     "output_type": "execute_result"
    }
   ],
   "source": [
    "#Importing the fft and inverse fft functions from fftpackage\n",
    "from scipy.fftpack import fft\n",
    "\n",
    "#create an array with random n numbers\n",
    "x = np.array([1.0, 2.0, 1.0, -1.0, 1.5])\n",
    "\n",
    "#Applying the fft function\n",
    "y = fft(x)\n",
    "y"
   ]
  },
  {
   "cell_type": "markdown",
   "metadata": {},
   "source": [
    "# Integrate\n",
    "SciPy has a number of routines for performing numerical integration. Most of them are found in the same scipy.integrate library.\n",
    "\n",
    "Sr No. Function & Description \n",
    "   1.   quad Single integration \n",
    "   2. dblquad Double integration \n",
    "   3. tplquad Triple integration \n",
    "   4. nquad n-fold multiple integration \n",
    "   5. fixed_quad Gaussian quadrature, order n \n",
    "   6. quadrature Gaussian quadrature to tolerance \n",
    "   7. romberg Romberg integration \n",
    "   8. trapz Trapezoidal rule \n",
    "   9. cumtrapz Trapezoidal rule to cumulatively compute integral \n",
    "   10. simps Simpson’s rule \n",
    "   11. romb Romberg integration \n",
    "   12. polyint Analytical polynomial integration (NumPy) \n",
    "   13. poly1d Helper function for polyint (NumPy)"
   ]
  },
  {
   "cell_type": "code",
   "execution_count": 1,
   "metadata": {},
   "outputs": [
    {
     "name": "stdout",
     "output_type": "stream",
     "text": [
      "F : <function <lambda> at 0x0000024A28967D90>\n"
     ]
    },
    {
     "data": {
      "text/plain": [
       "(0.7468241328124271, 8.291413475940725e-15)"
      ]
     },
     "execution_count": 1,
     "metadata": {},
     "output_type": "execute_result"
    }
   ],
   "source": [
    "import scipy.integrate\n",
    "from numpy import exp\n",
    "f= lambda x:exp(-x**2)\n",
    "i = scipy.integrate.quad(f, 0, 1)\n",
    "i"
   ]
  },
  {
   "cell_type": "markdown",
   "metadata": {},
   "source": [
    "The quad function returns the two values, in which the first number is the value of integral and the second value is the estimate of the absolute error in the value of integral."
   ]
  },
  {
   "cell_type": "code",
   "execution_count": 27,
   "metadata": {},
   "outputs": [
    {
     "data": {
      "text/plain": [
       "(0.5, 1.7092350012594845e-14)"
      ]
     },
     "execution_count": 27,
     "metadata": {},
     "output_type": "execute_result"
    }
   ],
   "source": [
    "import scipy.integrate\n",
    "from numpy import exp\n",
    "from math import sqrt\n",
    "f = lambda x, y : 16*x*y\n",
    "g = lambda x : 0\n",
    "h = lambda y : sqrt(1-4*y**2)\n",
    "i = scipy.integrate.dblquad(f, 0, 0.5, g, h)\n",
    "i"
   ]
  },
  {
   "cell_type": "markdown",
   "metadata": {},
   "source": [
    "# Interpolation\n",
    "Interpolation is the process of finding a value between two points on a line or a curve."
   ]
  },
  {
   "cell_type": "code",
   "execution_count": 28,
   "metadata": {},
   "outputs": [
    {
     "data": {
      "text/plain": [
       "array([0.        , 0.36363636, 0.72727273, 1.09090909, 1.45454545,\n",
       "       1.81818182, 2.18181818, 2.54545455, 2.90909091, 3.27272727,\n",
       "       3.63636364, 4.        ])"
      ]
     },
     "execution_count": 28,
     "metadata": {},
     "output_type": "execute_result"
    }
   ],
   "source": [
    "import numpy as np\n",
    "from scipy.interpolate import interp1d\n",
    "import matplotlib.pyplot as plt\n",
    "x = np.linspace(0, 4, 12)\n",
    "y = np.cos(x**2/3+4)\n",
    "x"
   ]
  },
  {
   "cell_type": "code",
   "execution_count": 29,
   "metadata": {},
   "outputs": [
    {
     "data": {
      "text/plain": [
       "array([-0.65364362, -0.61966189, -0.51077021, -0.31047698, -0.00715476,\n",
       "        0.37976236,  0.76715099,  0.99239518,  0.85886263,  0.27994201,\n",
       "       -0.52586509, -0.99582185])"
      ]
     },
     "execution_count": 29,
     "metadata": {},
     "output_type": "execute_result"
    }
   ],
   "source": [
    "y"
   ]
  },
  {
   "cell_type": "code",
   "execution_count": 30,
   "metadata": {},
   "outputs": [
    {
     "data": {
      "image/png": "[encoded data removed]",
      "text/plain": [
       "<Figure size 432x288 with 1 Axes>"
      ]
     },
     "metadata": {},
     "output_type": "display_data"
    }
   ],
   "source": [
    "plt.plot(x, y,'o')\n",
    "plt.show()"
   ]
  },
  {
   "cell_type": "code",
   "execution_count": 31,
   "metadata": {},
   "outputs": [
    {
     "data": {
      "image/png": "[encoded data removed]",
      "text/plain": [
       "<Figure size 432x288 with 1 Axes>"
      ]
     },
     "metadata": {},
     "output_type": "display_data"
    }
   ],
   "source": [
    "f1 = interp1d(x, y,kind = 'linear')\n",
    "\n",
    "f2 = interp1d(x, y, kind = 'cubic')\n",
    "\n",
    "xnew = np.linspace(0, 4,30)\n",
    "\n",
    "plt.plot(x, y, 'o', xnew, f1(xnew), '-', xnew, f2(xnew), '--')\n",
    "\n",
    "plt.legend(['data', 'linear', 'cubic'], loc = 'best')\n",
    "\n",
    "plt.show()"
   ]
  },
  {
   "cell_type": "markdown",
   "metadata": {},
   "source": [
    "# linalng\n",
    "SciPy is built using the optimized ATLAS LAPACK and BLAS libraries. It has very fast linear algebra capabilities. All of these linear algebra routines expect an object that can be converted into a two-dimensional array. A scipy.linalg contains all the functions that are in numpy.linalg. Additionally, scipy.linalg also has some other advanced functions that are not in numpy.linalg. Another advantage of using scipy.linalg over numpy.linalg is that it is always compiled with BLAS/LAPACK support, while for NumPy this is optional. Therefore, the SciPy version might be faster depending on how NumPy was installed.\n",
    "\n",
    "The scipy.linalg.solve feature solves the linear equation a x + b y = Z, for the unknown x, y values."
   ]
  },
  {
   "cell_type": "code",
   "execution_count": 1,
   "metadata": {},
   "outputs": [
    {
     "data": {
      "text/plain": [
       "array([ 0.48571429, -0.44285714,  1.21428571])"
      ]
     },
     "execution_count": 1,
     "metadata": {},
     "output_type": "execute_result"
    }
   ],
   "source": [
    "from scipy import linalg\n",
    "import numpy as np\n",
    "\n",
    "#Declaring the numpy arrays\n",
    "a = np.array([[3, 2, 2], [1, -1, 5], [0, 5, 1]])\n",
    "b = np.array([3, 7, -1])\n",
    "\n",
    "#Passing the values to the solve function\n",
    "x = linalg.solve(a, b)\n",
    "\n",
    "#printing the result array\n",
    "x"
   ]
  },
  {
   "cell_type": "code",
   "execution_count": 33,
   "metadata": {},
   "outputs": [
    {
     "name": "stdout",
     "output_type": "stream",
     "text": [
      "Eigen value :  \n"
     ]
    },
    {
     "data": {
      "text/plain": [
       "array([-0.37228132+0.j,  5.37228132+0.j])"
      ]
     },
     "execution_count": 33,
     "metadata": {},
     "output_type": "execute_result"
    }
   ],
   "source": [
    "#Declaring the numpy array\n",
    "A = np.array([[1,2],[3,4]]) # det(A)\n",
    "\n",
    "#Passing the values to the eig function\n",
    "l, v = linalg.eig(A)\n",
    "\n",
    "#printing the result for eigen values\n",
    "print(\"Eigen value :  \")\n",
    "l\n"
   ]
  },
  {
   "cell_type": "code",
   "execution_count": 34,
   "metadata": {},
   "outputs": [
    {
     "name": "stdout",
     "output_type": "stream",
     "text": [
      "Eigen vector \n"
     ]
    },
    {
     "data": {
      "text/plain": [
       "array([[-0.82456484, -0.41597356],\n",
       "       [ 0.56576746, -0.90937671]])"
      ]
     },
     "execution_count": 34,
     "metadata": {},
     "output_type": "execute_result"
    }
   ],
   "source": [
    "print(\"Eigen vector \")\n",
    "v"
   ]
  },
  {
   "cell_type": "code",
   "execution_count": 35,
   "metadata": {},
   "outputs": [
    {
     "name": "stdout",
     "output_type": "stream",
     "text": [
      "[[-0.6146792 -0.38444967j -0.45050707+0.00623521j  0.51838468+0.05147584j]\n",
      " [-0.4866983 +0.17985717j  0.43071221-0.73367169j -0.05426512-0.06359483j]\n",
      " [ 0.39349679+0.22428636j  0.24078844-0.12344339j  0.84824503-0.04603179j]]\n",
      "[[ 0.94914006+0.j         -0.0251676 -0.31384667j]\n",
      " [ 0.31485416+0.j          0.07586871+0.94610295j]]\n",
      "[3.71730062 2.50770185]\n"
     ]
    }
   ],
   "source": [
    "a = np.random.randn(3, 2) + 1.j*np.random.randn(3, 2)\n",
    "\n",
    "#Passing the values to the eig function\n",
    "U, s, Vh = linalg.svd(a)\n",
    "\n",
    "# printing the result\n",
    "print (U)\n",
    "print(Vh)\n",
    "print(s)"
   ]
  },
  {
   "cell_type": "markdown",
   "metadata": {},
   "source": [
    "# Ndimage\n",
    "The SciPy ndimage submodule is dedicated to image processing. Here, ndimage means an n-dimensional image.\n",
    "\n",
    "Some of the most common tasks in image processing are as follows &miuns;\n",
    "\n",
    "Input/Output, displaying images Basic manipulations − Cropping, flipping, rotating, etc. Image filtering − De-noising, sharpening, etc. Image segmentation − Labeling pixels corresponding to different objects Classification Feature extraction"
   ]
  },
  {
   "cell_type": "code",
   "execution_count": 36,
   "metadata": {},
   "outputs": [
    {
     "data": {
      "text/plain": [
       "(1536, 2048)"
      ]
     },
     "execution_count": 36,
     "metadata": {},
     "output_type": "execute_result"
    }
   ],
   "source": [
    "from scipy import misc  # Load an image\n",
    "face = misc.face(gray=True)\n",
    "\n",
    "from scipy import ndimage # Shift, roate and zoom it\n",
    "shifted_face = ndimage.shift(face, (50, 50))\n",
    "shifted_face2 = ndimage.shift(face, (50, 50), mode='nearest')\n",
    "rotated_face = ndimage.rotate(face, 30)\n",
    "cropped_face = face[50:-50, 50:-50]\n",
    "zoomed_face = ndimage.zoom(face, 2)\n",
    "zoomed_face.shape"
   ]
  },
  {
   "cell_type": "code",
   "execution_count": 39,
   "metadata": {},
   "outputs": [
    {
     "data": {
      "text/plain": [
       "(-0.5, 1270.5, 1176.5, -0.5)"
      ]
     },
     "execution_count": 39,
     "metadata": {},
     "output_type": "execute_result"
    },
    {
     "data": {
      "image/png": "[encoded data removed]",
      "text/plain": [
       "<Figure size 432x288 with 1 Axes>"
      ]
     },
     "metadata": {},
     "output_type": "display_data"
    }
   ],
   "source": [
    "plt.subplot(151)    \n",
    "\n",
    "\n",
    "plt.imshow(rotated_face, cmap=plt.cm.gray)    \n",
    "\n",
    "\n",
    "plt.axis('off')"
   ]
  },
  {
   "cell_type": "code",
   "execution_count": 40,
   "metadata": {},
   "outputs": [],
   "source": [
    "#apply the filters\n",
    "\n",
    "from scipy import misc\n",
    "face = misc.face(gray=True)\n",
    "face = face[:512, -512:]  # crop out square on right\n",
    "import numpy as np\n",
    "noisy_face = np.copy(face).astype(np.float)\n",
    "noisy_face += face.std() * 0.5 * np.random.standard_normal(face.shape)"
   ]
  },
  {
   "cell_type": "code",
   "execution_count": 41,
   "metadata": {},
   "outputs": [],
   "source": [
    "blurred_face = ndimage.gaussian_filter(noisy_face, sigma=3)\n",
    "median_face = ndimage.median_filter(noisy_face, size=5)\n",
    "from scipy import signal\n",
    "wiener_face = signal.wiener(noisy_face, (5, 5))"
   ]
  },
  {
   "cell_type": "code",
   "execution_count": 43,
   "metadata": {},
   "outputs": [
    {
     "data": {
      "text/plain": [
       "<matplotlib.image.AxesImage at 0x15115d84cc0>"
      ]
     },
     "execution_count": 43,
     "metadata": {},
     "output_type": "execute_result"
    },
    {
     "data": {
      "image/png": "[encoded data removed]",
      "text/plain": [
       "<Figure size 432x288 with 1 Axes>"
      ]
     },
     "metadata": {},
     "output_type": "display_data"
    }
   ],
   "source": [
    "plt.imshow(median_face, cmap=plt.cm.gray) "
   ]
  },
  {
   "cell_type": "markdown",
   "metadata": {},
   "source": [
    "# Optimization"
   ]
  },
  {
   "cell_type": "code",
   "execution_count": 2,
   "metadata": {},
   "outputs": [
    {
     "ename": "NameError",
     "evalue": "name 'np' is not defined",
     "output_type": "error",
     "traceback": [
      "\u001b[1;31m---------------------------------------------------------------------------\u001b[0m",
      "\u001b[1;31mNameError\u001b[0m                                 Traceback (most recent call last)",
      "\u001b[1;32m<ipython-input-2-c1b95cb83e18>\u001b[0m in \u001b[0;36m<module>\u001b[1;34m\u001b[0m\n\u001b[0;32m      1\u001b[0m \u001b[1;32mfrom\u001b[0m \u001b[0mscipy\u001b[0m \u001b[1;32mimport\u001b[0m \u001b[0moptimize\u001b[0m\u001b[1;33m\u001b[0m\u001b[0m\n\u001b[1;32m----> 2\u001b[1;33m \u001b[0mx_data\u001b[0m \u001b[1;33m=\u001b[0m \u001b[0mnp\u001b[0m\u001b[1;33m.\u001b[0m\u001b[0mlinspace\u001b[0m\u001b[1;33m(\u001b[0m\u001b[1;33m-\u001b[0m\u001b[1;36m5\u001b[0m\u001b[1;33m,\u001b[0m \u001b[1;36m5\u001b[0m\u001b[1;33m,\u001b[0m \u001b[0mnum\u001b[0m\u001b[1;33m=\u001b[0m\u001b[1;36m50\u001b[0m\u001b[1;33m)\u001b[0m\u001b[1;33m\u001b[0m\u001b[0m\n\u001b[0m\u001b[0;32m      3\u001b[0m \u001b[0my_data\u001b[0m \u001b[1;33m=\u001b[0m \u001b[1;36m2.9\u001b[0m \u001b[1;33m*\u001b[0m \u001b[0mnp\u001b[0m\u001b[1;33m.\u001b[0m\u001b[0msin\u001b[0m\u001b[1;33m(\u001b[0m\u001b[1;36m1.5\u001b[0m \u001b[1;33m*\u001b[0m \u001b[0mx_data\u001b[0m\u001b[1;33m)\u001b[0m \u001b[1;33m+\u001b[0m \u001b[0mnp\u001b[0m\u001b[1;33m.\u001b[0m\u001b[0mrandom\u001b[0m\u001b[1;33m.\u001b[0m\u001b[0mnormal\u001b[0m\u001b[1;33m(\u001b[0m\u001b[0msize\u001b[0m\u001b[1;33m=\u001b[0m\u001b[1;36m50\u001b[0m\u001b[1;33m)\u001b[0m\u001b[1;33m\u001b[0m\u001b[0m\n",
      "\u001b[1;31mNameError\u001b[0m: name 'np' is not defined"
     ]
    }
   ],
   "source": [
    "from scipy import optimize\n",
    "x_data = np.linspace(-5, 5, num=50)\n",
    "y_data = 2.9 * np.sin(1.5 * x_data) + np.random.normal(size=50)"
   ]
  },
  {
   "cell_type": "code",
   "execution_count": null,
   "metadata": {},
   "outputs": [],
   "source": [
    "def test_func(x, a, b):\n",
    "    return a * np.sin(b * x)"
   ]
  },
  {
   "cell_type": "code",
   "execution_count": null,
   "metadata": {},
   "outputs": [],
   "source": [
    "params, params_covariance = optimize.curve_fit(test_func, x_data, y_data, p0=[2, 2])\n",
    "print(params)\n",
    "print(params_covariance)"
   ]
  },
  {
   "attachments": {
    "image.png": {
     "image/png": "[encoded data removed]"
    }
   },
   "cell_type": "markdown",
   "metadata": {},
   "source": [
    "# Exercise\n",
    "\n",
    "![image.png](attachment:image.png)"
   ]
  },
  {
   "cell_type": "code",
   "execution_count": 50,
   "metadata": {},
   "outputs": [
    {
     "data": {
      "text/plain": [
       "Text(0,0.5,'Min and max temperature')"
      ]
     },
     "execution_count": 50,
     "metadata": {},
     "output_type": "execute_result"
    },
    {
     "data": {
      "image/png": "[encoded data removed]",
      "text/plain": [
       "<Figure size 432x288 with 1 Axes>"
      ]
     },
     "metadata": {},
     "output_type": "display_data"
    }
   ],
   "source": [
    "import numpy as np\n",
    "\n",
    "temp_max = np.array([17,  19,  21,  28,  33,  38, 37,  37,  31,  23,  19,  18])\n",
    "temp_min = np.array([-62, -59, -56, -46, -32, -18, -9, -13, -25, -46, -52, -58])\n",
    "\n",
    "import matplotlib.pyplot as plt\n",
    "months = np.arange(12)\n",
    "plt.plot(months, temp_max, 'ro')\n",
    "plt.plot(months, temp_min, 'bo')\n",
    "plt.xlabel('Month')\n",
    "plt.ylabel('Min and max temperature')"
   ]
  },
  {
   "cell_type": "code",
   "execution_count": 51,
   "metadata": {},
   "outputs": [],
   "source": [
    "from scipy import optimize\n",
    "def yearly_temps(times, avg, ampl, time_offset):\n",
    "    return (avg + ampl * np.cos((times + time_offset) * 2 * np.pi / times.max()))\n",
    "\n",
    "res_max, cov_max = optimize.curve_fit(yearly_temps, months,temp_max, [20, 10, 0])\n",
    "res_min, cov_min = optimize.curve_fit(yearly_temps, months,temp_min, [-40, 20, 0])"
   ]
  },
  {
   "cell_type": "code",
   "execution_count": 52,
   "metadata": {},
   "outputs": [
    {
     "data": {
      "image/png": "[encoded data removed]",
      "text/plain": [
       "<Figure size 432x288 with 1 Axes>"
      ]
     },
     "metadata": {},
     "output_type": "display_data"
    }
   ],
   "source": [
    "days = np.linspace(0, 12, num=365)\n",
    "\n",
    "plt.figure()\n",
    "plt.plot(months, temp_max, 'ro')\n",
    "plt.plot(days, yearly_temps(days, *res_max), 'r-')\n",
    "plt.plot(months, temp_min, 'bo')\n",
    "plt.plot(days, yearly_temps(days, *res_min), 'b-')\n",
    "plt.xlabel('Month')\n",
    "plt.ylabel('Temperature ($^\\circ$C)')\n",
    "\n",
    "plt.show()"
   ]
  },
  {
   "cell_type": "code",
   "execution_count": null,
   "metadata": {},
   "outputs": [],
   "source": []
  }
 ],
 "metadata": {
  "kernelspec": {
   "display_name": "Python 3",
   "language": "python",
   "name": "python3"
  },
  "language_info": {
   "codemirror_mode": {
    "name": "ipython",
    "version": 3
   },
   "file_extension": ".py",
   "mimetype": "text/x-python",
   "name": "python",
   "nbconvert_exporter": "python",
   "pygments_lexer": "ipython3",
   "version": "3.7.9"
  }
 },
 "nbformat": 4,
 "nbformat_minor": 2
}
