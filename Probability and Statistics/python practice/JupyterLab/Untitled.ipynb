{
 "cells": [
  {
   "cell_type": "code",
   "execution_count": 1,
   "metadata": {},
   "outputs": [
    {
     "name": "stdout",
     "output_type": "stream",
     "text": [
      "hello\n",
      "hell\n"
     ]
    }
   ],
   "source": [
    "print(\"hello\")\n",
    "print(\"hell\")"
   ]
  },
  {
   "cell_type": "code",
   "execution_count": 2,
   "metadata": {},
   "outputs": [
    {
     "name": "stdout",
     "output_type": "stream",
     "text": [
      "[1, 24.3245, 123, 456]\n"
     ]
    }
   ],
   "source": [
    "mylist= [1,24.3245,123,456]\n",
    "print(mylist)"
   ]
  },
  {
   "cell_type": "code",
   "execution_count": 3,
   "metadata": {},
   "outputs": [
    {
     "ename": "SyntaxError",
     "evalue": "Missing parentheses in call to 'print'. Did you mean print(\"Array with Rank 1 : \",arr)? (<ipython-input-3-f1879c4033de>, line 11)",
     "output_type": "error",
     "traceback": [
      "\u001b[0;36m  File \u001b[0;32m\"<ipython-input-3-f1879c4033de>\"\u001b[0;36m, line \u001b[0;32m11\u001b[0m\n\u001b[0;31m    print \"Array with Rank 1 : \",arr\u001b[0m\n\u001b[0m          ^\u001b[0m\n\u001b[0;31mSyntaxError\u001b[0m\u001b[0;31m:\u001b[0m Missing parentheses in call to 'print'. Did you mean print(\"Array with Rank 1 : \",arr)?\n"
     ]
    }
   ],
   "source": [
    "#!/usr/bin/env python3\n",
    "\n",
    "#run this in python 2\n",
    "\n",
    "import numpy as np\n",
    "\n",
    "if __name__ == \"__main__\":\n",
    "\t\n",
    "\t#creating arrays : \n",
    "\tarr = np.array([1,2,3])\n",
    "\tprint \"Array with Rank 1 : \",arr \n",
    "\tarr = np.array([[1,2,3],[4,5,6]])\n",
    "\tprint \"Array with Rank 2 : \",arr \n",
    "\tarr = np.array((1,2,3))\n",
    "\tprint \"Array with passed tuples : \" , arr\n",
    "\t\n",
    "\t#Accessing the array index : \n",
    "\tarr = np.array([[-1, 2, 0, 4],\n",
    "\t\t\t[4, -0.5, 6, 0],\n",
    "\t\t\t[2.6, 0, 7, 8],\n",
    "\t\t\t[3, -7, 4, 2.0]])\n",
    "\tprint \"Initial Array: \\n\" , arr\n",
    "\t\n",
    "\tsliced_arr = arr[:2,:3]\n",
    "\tprint \"Applying slicing method on arrays : \\n\" , sliced_arr\n",
    "\tsliced_arr = arr[:2,::2]\n",
    "\tprint \"Applying slicing method on arrays : \\n\" , arr[:2,::2]\n",
    "\t\n",
    "\tindex_arr = arr[[1, 1, 0, 3], \n",
    "\t\t[3, 2, 1, 0]]\n",
    "\tprint \"Accessing arr via indices : \\n\" , index_arr\n",
    "\tprint \"Accessing Specific index : \" , arr[[2],[3]]\n",
    "\t\n",
    "\t#Array operations : \n",
    "\ta = np.array([[1,2],[3,4]])\n",
    "\tb = np.array([[5,6],[7,8]])\n",
    "\tprint \"Adding 1 to every element of a : \\n\" , a+1\n",
    "\tprint \"Subtracting 1 from every element of b : \\n\" , b-1\n",
    "\tprint \"Sum of all array element of a : \" , a.sum()\n",
    "\tprint \"Sum of all array element of b : \" , b.sum()\n",
    "\tprint \"Array sum a + b : \\n\" , a+b\n",
    "\t\n",
    "\t#Datatype object\n",
    "\ta =  np.array([1,2])\n",
    "\tprint \"Data type of a : \" , a.dtype()"
   ]
  },
  {
   "cell_type": "code",
   "execution_count": 4,
   "metadata": {},
   "outputs": [
    {
     "ename": "TypeError",
     "evalue": "'numpy.dtype' object is not callable",
     "output_type": "error",
     "traceback": [
      "\u001b[0;31m---------------------------------------------------------------------------\u001b[0m",
      "\u001b[0;31mTypeError\u001b[0m                                 Traceback (most recent call last)",
      "\u001b[0;32m<ipython-input-4-679c8e6e324b>\u001b[0m in \u001b[0;36m<module>\u001b[0;34m\u001b[0m\n\u001b[1;32m      1\u001b[0m \u001b[0;32mimport\u001b[0m \u001b[0mnumpy\u001b[0m \u001b[0;32mas\u001b[0m \u001b[0mnp\u001b[0m\u001b[0;34m\u001b[0m\u001b[0;34m\u001b[0m\u001b[0m\n\u001b[1;32m      2\u001b[0m \u001b[0ma\u001b[0m \u001b[0;34m=\u001b[0m \u001b[0mnp\u001b[0m\u001b[0;34m.\u001b[0m\u001b[0marray\u001b[0m\u001b[0;34m(\u001b[0m\u001b[0;34m[\u001b[0m\u001b[0;36m1\u001b[0m\u001b[0;34m,\u001b[0m\u001b[0;36m2\u001b[0m\u001b[0;34m]\u001b[0m\u001b[0;34m)\u001b[0m\u001b[0;34m\u001b[0m\u001b[0;34m\u001b[0m\u001b[0m\n\u001b[0;32m----> 3\u001b[0;31m \u001b[0mprint\u001b[0m\u001b[0;34m(\u001b[0m\u001b[0;34m\"data type of a : \"\u001b[0m \u001b[0;34m,\u001b[0m  \u001b[0ma\u001b[0m\u001b[0;34m.\u001b[0m\u001b[0mdtype\u001b[0m\u001b[0;34m(\u001b[0m\u001b[0;34m)\u001b[0m\u001b[0;34m)\u001b[0m\u001b[0;34m\u001b[0m\u001b[0;34m\u001b[0m\u001b[0m\n\u001b[0m",
      "\u001b[0;31mTypeError\u001b[0m: 'numpy.dtype' object is not callable"
     ]
    }
   ],
   "source": [
    "import numpy as np\n",
    "a = np.array([1,2])\n",
    "print(\"data type of a : \" ,  a.dtype())"
   ]
  },
  {
   "cell_type": "code",
   "execution_count": null,
   "metadata": {},
   "outputs": [],
   "source": []
  }
 ],
 "metadata": {
  "kernelspec": {
   "display_name": "Python 3",
   "language": "python",
   "name": "python3"
  },
  "language_info": {
   "codemirror_mode": {
    "name": "ipython",
    "version": 3
   },
   "file_extension": ".py",
   "mimetype": "text/x-python",
   "name": "python",
   "nbconvert_exporter": "python",
   "pygments_lexer": "ipython3",
   "version": "3.8.5"
  }
 },
 "nbformat": 4,
 "nbformat_minor": 4
}
